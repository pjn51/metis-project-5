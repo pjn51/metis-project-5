{
 "cells": [
  {
   "cell_type": "markdown",
   "id": "alike-alcohol",
   "metadata": {},
   "source": [
    "# West Coast Fire Prediction\n",
    "Narrowing down the scope of project-5 to just California, Oregon, and Washington for now."
   ]
  },
  {
   "cell_type": "markdown",
   "id": "aquatic-provincial",
   "metadata": {},
   "source": [
    "# Functions"
   ]
  },
  {
   "cell_type": "code",
   "execution_count": 742,
   "id": "stopped-southwest",
   "metadata": {},
   "outputs": [],
   "source": [
    "# function-in-progress\n",
    "\n",
    "def add_state(data_list, state_abb, data_start):\n",
    "    '''\n",
    "    This function takes in a list of paths to data, and does\n",
    "    a ton of the preprocessing and data wrangling. \n",
    "    \n",
    "    data_list (list): this is a list of the paths to the data,\n",
    "        in the form ['temp_path', 'precip_path']\n",
    "    state_abb (str): the 2-letter state abbreviation.\n",
    "    data_start (str): the year that we want to start data collection.\n",
    "    \n",
    "    Returns state_fires, state_climate dataframes\n",
    "    '''\n",
    "    \n",
    "    # getting temp and precip data ready\n",
    "    temp = climate_preprocessor_v2(path=data_list[0],\n",
    "                                   state=state_abb,\n",
    "                                   metric='temp',\n",
    "                                   start_yr=data_start,\n",
    "                                   end_yr='2015')\n",
    "    \n",
    "    precip = climate_preprocessor_v2(path=data_list[1],\n",
    "                                   state=state_abb,\n",
    "                                   metric='precip',\n",
    "                                   start_yr=data_start,\n",
    "                                   end_yr='2015')\n",
    "    \n",
    "    \n",
    "    climate = pd.merge(temp, precip, on = 'FIPS_YEAR')\n",
    "    \n",
    "    return climate\n",
    "    # \n",
    "    # # importing fire data from the state\n",
    "    # con = sqlite3.connect(\"/Users/patricknorman/Downloads/FPA_FOD_20170508.sqlite\")\n",
    "# \n",
    "    # query = f'SELECT FIRE_NAME, FIRE_YEAR, FIRE_SIZE, STATE, COUNTY, FIPS_CODE, FIPS_NAME FROM Fires WHERE State = {state};'\n",
    "    # \n",
    "    # state_fires = pd.read_sql_query(query, con)\n",
    "# \n",
    "    # con.close()\n",
    "    # \n",
    "    # # filtering by year\n",
    "    # filter_ = (state_fires['FIRE_YEAR'].apply(lambda x: int(x)) >= data_start)\n",
    "    # state_fires = state_fires[filter_]\n",
    "    # \n",
    "    # # creating and formatting columns\n",
    "    # state_fires = state_fires.rename(columns={'FIPS_CODE':'COUNTY_CODE'})\n",
    "    # state_fires['STATE_CODE'] = state_fires.STATE.apply(lambda x: state_codes[x])\n",
    "    # state_fires = state_fires.astype({'COUNTY_CODE':'str'})\n",
    "    # state_fires['FIPS'] = state_fires.STATE_CODE + state_fires.COUNTY_CODE\n",
    "    # state_fires = state_fires[state_fires.COUNTY_CODE != 'None']\n",
    "    # state_fires['FIPS-YEAR'] = state_fires['FIPS'] + ' ' + state_fires['FIRE_YEAR'].apply(lambda x: str(x))\n",
    "    # \n",
    "    # # grouping by fips-year\n",
    "    # state_fires = pd.DataFrame(state_fires.groupby(['FIPS-YEAR'])['FIRE_SIZE'].sum())\n",
    "    # state_fires = state_fires.reset_index()\n",
    "    # \n",
    "    # return state_fires, climate"
   ]
  },
  {
   "cell_type": "code",
   "execution_count": 743,
   "id": "weekly-greene",
   "metadata": {},
   "outputs": [],
   "source": [
    "def county_visualizer(df, metric, colorscale = 'thermal'):\n",
    "    '''\n",
    "    Given a dataframe, a metric to visualize, this function returns a map of the counties of the US based on\n",
    "    whatever metric you passed. \n",
    "    \n",
    "    df: pandas dataframe to get the data from.\n",
    "    metric (str): the name of the column in df that you want to visualize by county. \n",
    "    colorscale (str): the name of the built-in color scale you want to use. Defaults to the thermal scale.\n",
    "    \n",
    "    '''\n",
    "    \n",
    "    # importing shapefiles for US counties\n",
    "    from urllib.request import urlopen\n",
    "    import json\n",
    "    with urlopen('https://raw.githubusercontent.com/plotly/datasets/master/geojson-counties-fips.json') as response:\n",
    "        counties = json.load(response)\n",
    "\n",
    "    # plotting figure\n",
    "    import plotly.express as px\n",
    "\n",
    "    fig = px.choropleth(df, geojson=counties, locations='FIPS', color=metric,\n",
    "                               color_continuous_scale=colorscale,\n",
    "                               scope=\"usa\")\n",
    "    \n",
    "    fig.show()"
   ]
  },
  {
   "cell_type": "code",
   "execution_count": 744,
   "id": "lightweight-stocks",
   "metadata": {},
   "outputs": [],
   "source": [
    "def fireyear_plotter(df, year, colorscale = 'thermal'):\n",
    "    '''\n",
    "    Given a dataframe, a year to visualize (between 1991 and 2015), this function returns \n",
    "    a map of the US by county with the number of acres burned in that year due to \n",
    "    wildfire.\n",
    "    \n",
    "    df: pandas dataframe to get the fire data from.\n",
    "    year (str): the year to examine.\n",
    "    colorscale (str): the name of the built-in color scale you want to use. Defaults to the thermal scale.\n",
    "    '''\n",
    "    \n",
    "    \n",
    "    # importing shapefiles for US counties\n",
    "    from urllib.request import urlopen\n",
    "    import json\n",
    "    with urlopen('https://raw.githubusercontent.com/plotly/datasets/master/geojson-counties-fips.json') as response:\n",
    "        counties = json.load(response)\n",
    "        \n",
    "    # filtering df by year\n",
    "    year_df = df[df['YEAR'] == year]\n",
    "\n",
    "    # plotting figure\n",
    "    import plotly.express as px\n",
    "\n",
    "    fig = px.choropleth(year_df, geojson=counties, locations='FIPS', color='FIRE_SIZE',\n",
    "                               color_continuous_scale=colorscale,\n",
    "                               scope=\"usa\")\n",
    "    \n",
    "    fig.show()"
   ]
  },
  {
   "cell_type": "code",
   "execution_count": 745,
   "id": "fuzzy-robert",
   "metadata": {},
   "outputs": [],
   "source": [
    "def climate_preprocessor(path, statecode, value_label, rank_label, anomaly_label, mean_label):\n",
    "    '''\n",
    "    Given a file path and the new labels for the data, this function creates a Pandas dataframe, \n",
    "    removes dates outside of the 1998-2015 range, and formats\n",
    "    the columns for combination by changing labels and adding FIPS. \n",
    "    '''\n",
    "    \n",
    "    df = pd.read_csv(path)\n",
    "    \n",
    "    df = df.rename(columns={'Value':value_label,'Rank':rank_label,'Anomaly (1901-2000 base period)':anomaly_label, '1901-2000 Mean':mean_label, 'Location ID':'FIPS'})\n",
    "    \n",
    "    df = df[df['Date'] >= 199801]\n",
    "    df = df[df['Date'] <= 201512]\n",
    "    \n",
    "    df['YEAR'] = df['Date'].apply(lambda x: str(x)[:4])\n",
    "    \n",
    "    df['FIPS'] = df['FIPS'].apply(lambda x: statecode+x[3:])\n",
    "    \n",
    "    df['FIPS-YEAR'] = df['FIPS'] + ' ' + df['YEAR']\n",
    "    \n",
    "    df = df.groupby(['FIPS-YEAR']).mean()\n",
    "    \n",
    "    df = df.reset_index()\n",
    "    \n",
    "    df = df.drop(columns='Date')\n",
    "    \n",
    "    return df"
   ]
  },
  {
   "cell_type": "code",
   "execution_count": 746,
   "id": "upper-compact",
   "metadata": {},
   "outputs": [],
   "source": [
    "def climate_preprocessor_v2(path, state, metric, start_yr, end_yr):\n",
    "    '''\n",
    "    This function takes NOAA data from a given state, and\n",
    "    preprocesses it in the way that I need to for this project.\n",
    "    \n",
    "    path (str): the file path for the data.\n",
    "    state (str): the 2 digit state abbreviation for FIPS creation.\n",
    "    metric (str): either 'precip' or 'temp'.\n",
    "    start_yr (str): the first year for data collection.\n",
    "    end_yr (str): the final year for data collection.\n",
    "    \n",
    "    '''\n",
    "    # reading in data\n",
    "    df = pd.read_csv(path)\n",
    "    \n",
    "    # labeling data\n",
    "    if metric == 'precip':\n",
    "        df = df.rename(columns={'Value':'precip','Rank':'precip_rank','Anomaly (1901-2000 base period)':'precip_anomaly', '1901-2000 Mean':'precip_mean', 'Location ID':'FIPS'})\n",
    "    \n",
    "    else:\n",
    "        df = df.rename(columns={'Value':'temp','Rank':'temp_rank','Anomaly (1901-2000 base period)':'temp_anomaly', '1901-2000 Mean':'temp_mean', 'Location ID':'FIPS'})\n",
    "    \n",
    "    # filtering by date\n",
    "    start_yr = start_yr + '01'\n",
    "    end_yr = end_yr + '12'\n",
    "    \n",
    "    df = df[df['Date'] >= int(start_yr)]\n",
    "    df = df[df['Date'] <= int(end_yr)]\n",
    "    \n",
    "    # creating some new columns\n",
    "    df['YEAR'] = df['Date'].apply(lambda x: str(x)[:4])\n",
    "    df['FIPS'] = df['FIPS'].apply(lambda x: state_codes[state]+x[3:])\n",
    "    df['FIPS-YEAR'] = df['FIPS'] + ' ' + df['YEAR']\n",
    "    \n",
    "    # grouping by fips-year\n",
    "    df = df.groupby(['FIPS-YEAR']).mean()\n",
    "    \n",
    "    # cleaning up\n",
    "    df = df.reset_index()\n",
    "    df = df.drop(columns='Date')\n",
    "    \n",
    "    return df"
   ]
  },
  {
   "cell_type": "code",
   "execution_count": 747,
   "id": "conscious-swing",
   "metadata": {},
   "outputs": [],
   "source": [
    "def randomforest_tweak(hyperparameter, min_, max_):\n",
    "    '''\n",
    "    This function takes a range for a Random Forest parameter,\n",
    "    and plots the % of variation explained during validation.\n",
    "    \n",
    "    hyperparameter (str): the hyperparameter to investigate.\n",
    "        can be \n",
    "    min_ (int): the minimum hyperparameter value.\n",
    "    max_ (int): the max hyperparameter value.\n",
    "    \n",
    "    '''\n",
    "    var_explained = []\n",
    "    i_list = []\n",
    "    \n",
    "    if hyperparameter == 'n_estimators':\n",
    "        for i in range(min_, max_):\n",
    "            rf = RandomForestRegressor(n_estimators = i)\n",
    "\n",
    "            rf.fit(x_train, y_train)\n",
    "            rf_pred = rf.predict(x_val)\n",
    "\n",
    "            var_explained.append(explained_variance_score(y_val, rf_pred)*100)\n",
    "            i_list.append(i)\n",
    "            \n",
    "    if hyperparameter == 'max_depth':\n",
    "        for i in range(min_, max_):\n",
    "            rf = RandomForestRegressor(n_estimators = i)\n",
    "\n",
    "            rf.fit(x_train, y_train)\n",
    "            rf_pred = rf.predict(x_val)\n",
    "\n",
    "            var_explained.append(explained_variance_score(y_val, rf_pred)*100)\n",
    "            i_list.append(i)\n",
    "        \n",
    "    plt.plot(i_list, var_explained)\n",
    "    plt.title('% Variation Explained During Validation')\n",
    "    plt.xlabel('Hyperparameter value')\n",
    "    plt.ylabel('% Var Explained')"
   ]
  },
  {
   "cell_type": "markdown",
   "id": "amazing-jacksonville",
   "metadata": {},
   "source": [
    "# Packages"
   ]
  },
  {
   "cell_type": "code",
   "execution_count": 748,
   "id": "homeless-steam",
   "metadata": {},
   "outputs": [],
   "source": [
    "import pandas as pd\n",
    "import numpy as np\n",
    "import sqlite3\n",
    "import plotly.express as px\n",
    "from sklearn.model_selection import train_test_split\n",
    "from sklearn.linear_model import RidgeCV\n",
    "from sklearn.metrics import explained_variance_score\n",
    "from sklearn.ensemble import RandomForestRegressor\n",
    "import matplotlib.pyplot as plt\n",
    "from sklearn.preprocessing import OneHotEncoder, StandardScaler"
   ]
  },
  {
   "cell_type": "markdown",
   "id": "large-recipient",
   "metadata": {},
   "source": [
    "# Wildfire Data Import and Cleaning"
   ]
  },
  {
   "cell_type": "code",
   "execution_count": 749,
   "id": "disturbed-things",
   "metadata": {},
   "outputs": [],
   "source": [
    "con = sqlite3.connect(\"/Users/patricknorman/Downloads/FPA_FOD_20170508.sqlite\")\n",
    "\n",
    "cur = con.cursor()\n",
    "        \n",
    "all_fires = pd.read_sql_query('SELECT FIRE_NAME, FIRE_YEAR, FIRE_SIZE, STATE, COUNTY, FIPS_CODE, FIPS_NAME  FROM Fires;', con)\n",
    "\n",
    "# Be sure to close the connection\n",
    "con.close()"
   ]
  },
  {
   "cell_type": "code",
   "execution_count": 750,
   "id": "polyphonic-native",
   "metadata": {},
   "outputs": [
    {
     "data": {
      "text/html": [
       "<div>\n",
       "<style scoped>\n",
       "    .dataframe tbody tr th:only-of-type {\n",
       "        vertical-align: middle;\n",
       "    }\n",
       "\n",
       "    .dataframe tbody tr th {\n",
       "        vertical-align: top;\n",
       "    }\n",
       "\n",
       "    .dataframe thead th {\n",
       "        text-align: right;\n",
       "    }\n",
       "</style>\n",
       "<table border=\"1\" class=\"dataframe\">\n",
       "  <thead>\n",
       "    <tr style=\"text-align: right;\">\n",
       "      <th></th>\n",
       "      <th>FIRE_NAME</th>\n",
       "      <th>FIRE_YEAR</th>\n",
       "      <th>FIRE_SIZE</th>\n",
       "      <th>STATE</th>\n",
       "      <th>COUNTY</th>\n",
       "      <th>FIPS_CODE</th>\n",
       "      <th>FIPS_NAME</th>\n",
       "    </tr>\n",
       "  </thead>\n",
       "  <tbody>\n",
       "    <tr>\n",
       "      <th>0</th>\n",
       "      <td>FOUNTAIN</td>\n",
       "      <td>2005</td>\n",
       "      <td>0.10</td>\n",
       "      <td>CA</td>\n",
       "      <td>63</td>\n",
       "      <td>063</td>\n",
       "      <td>Plumas</td>\n",
       "    </tr>\n",
       "    <tr>\n",
       "      <th>1</th>\n",
       "      <td>PIGEON</td>\n",
       "      <td>2004</td>\n",
       "      <td>0.25</td>\n",
       "      <td>CA</td>\n",
       "      <td>61</td>\n",
       "      <td>061</td>\n",
       "      <td>Placer</td>\n",
       "    </tr>\n",
       "    <tr>\n",
       "      <th>2</th>\n",
       "      <td>SLACK</td>\n",
       "      <td>2004</td>\n",
       "      <td>0.10</td>\n",
       "      <td>CA</td>\n",
       "      <td>17</td>\n",
       "      <td>017</td>\n",
       "      <td>El Dorado</td>\n",
       "    </tr>\n",
       "    <tr>\n",
       "      <th>3</th>\n",
       "      <td>DEER</td>\n",
       "      <td>2004</td>\n",
       "      <td>0.10</td>\n",
       "      <td>CA</td>\n",
       "      <td>3</td>\n",
       "      <td>003</td>\n",
       "      <td>Alpine</td>\n",
       "    </tr>\n",
       "    <tr>\n",
       "      <th>4</th>\n",
       "      <td>STEVENOT</td>\n",
       "      <td>2004</td>\n",
       "      <td>0.10</td>\n",
       "      <td>CA</td>\n",
       "      <td>3</td>\n",
       "      <td>003</td>\n",
       "      <td>Alpine</td>\n",
       "    </tr>\n",
       "  </tbody>\n",
       "</table>\n",
       "</div>"
      ],
      "text/plain": [
       "  FIRE_NAME  FIRE_YEAR  FIRE_SIZE STATE COUNTY FIPS_CODE  FIPS_NAME\n",
       "0  FOUNTAIN       2005       0.10    CA     63       063     Plumas\n",
       "1    PIGEON       2004       0.25    CA     61       061     Placer\n",
       "2     SLACK       2004       0.10    CA     17       017  El Dorado\n",
       "3      DEER       2004       0.10    CA      3       003     Alpine\n",
       "4  STEVENOT       2004       0.10    CA      3       003     Alpine"
      ]
     },
     "execution_count": 750,
     "metadata": {},
     "output_type": "execute_result"
    }
   ],
   "source": [
    "all_fires.head()"
   ]
  },
  {
   "cell_type": "code",
   "execution_count": 751,
   "id": "possible-delhi",
   "metadata": {},
   "outputs": [
    {
     "data": {
      "text/html": [
       "<div>\n",
       "<style scoped>\n",
       "    .dataframe tbody tr th:only-of-type {\n",
       "        vertical-align: middle;\n",
       "    }\n",
       "\n",
       "    .dataframe tbody tr th {\n",
       "        vertical-align: top;\n",
       "    }\n",
       "\n",
       "    .dataframe thead th {\n",
       "        text-align: right;\n",
       "    }\n",
       "</style>\n",
       "<table border=\"1\" class=\"dataframe\">\n",
       "  <thead>\n",
       "    <tr style=\"text-align: right;\">\n",
       "      <th></th>\n",
       "      <th>FIRE_NAME</th>\n",
       "      <th>FIRE_YEAR</th>\n",
       "      <th>FIRE_SIZE</th>\n",
       "      <th>STATE</th>\n",
       "      <th>COUNTY</th>\n",
       "      <th>COUNTY_CODE</th>\n",
       "      <th>FIPS_NAME</th>\n",
       "      <th>STATE_CODE</th>\n",
       "      <th>FIPS</th>\n",
       "    </tr>\n",
       "  </thead>\n",
       "  <tbody>\n",
       "    <tr>\n",
       "      <th>0</th>\n",
       "      <td>FOUNTAIN</td>\n",
       "      <td>2005</td>\n",
       "      <td>0.10</td>\n",
       "      <td>CA</td>\n",
       "      <td>63</td>\n",
       "      <td>063</td>\n",
       "      <td>Plumas</td>\n",
       "      <td>06</td>\n",
       "      <td>06063</td>\n",
       "    </tr>\n",
       "    <tr>\n",
       "      <th>1</th>\n",
       "      <td>PIGEON</td>\n",
       "      <td>2004</td>\n",
       "      <td>0.25</td>\n",
       "      <td>CA</td>\n",
       "      <td>61</td>\n",
       "      <td>061</td>\n",
       "      <td>Placer</td>\n",
       "      <td>06</td>\n",
       "      <td>06061</td>\n",
       "    </tr>\n",
       "    <tr>\n",
       "      <th>2</th>\n",
       "      <td>SLACK</td>\n",
       "      <td>2004</td>\n",
       "      <td>0.10</td>\n",
       "      <td>CA</td>\n",
       "      <td>17</td>\n",
       "      <td>017</td>\n",
       "      <td>El Dorado</td>\n",
       "      <td>06</td>\n",
       "      <td>06017</td>\n",
       "    </tr>\n",
       "    <tr>\n",
       "      <th>3</th>\n",
       "      <td>DEER</td>\n",
       "      <td>2004</td>\n",
       "      <td>0.10</td>\n",
       "      <td>CA</td>\n",
       "      <td>3</td>\n",
       "      <td>003</td>\n",
       "      <td>Alpine</td>\n",
       "      <td>06</td>\n",
       "      <td>06003</td>\n",
       "    </tr>\n",
       "    <tr>\n",
       "      <th>4</th>\n",
       "      <td>STEVENOT</td>\n",
       "      <td>2004</td>\n",
       "      <td>0.10</td>\n",
       "      <td>CA</td>\n",
       "      <td>3</td>\n",
       "      <td>003</td>\n",
       "      <td>Alpine</td>\n",
       "      <td>06</td>\n",
       "      <td>06003</td>\n",
       "    </tr>\n",
       "  </tbody>\n",
       "</table>\n",
       "</div>"
      ],
      "text/plain": [
       "  FIRE_NAME  FIRE_YEAR  FIRE_SIZE STATE COUNTY COUNTY_CODE  FIPS_NAME  \\\n",
       "0  FOUNTAIN       2005       0.10    CA     63         063     Plumas   \n",
       "1    PIGEON       2004       0.25    CA     61         061     Placer   \n",
       "2     SLACK       2004       0.10    CA     17         017  El Dorado   \n",
       "3      DEER       2004       0.10    CA      3         003     Alpine   \n",
       "4  STEVENOT       2004       0.10    CA      3         003     Alpine   \n",
       "\n",
       "  STATE_CODE   FIPS  \n",
       "0         06  06063  \n",
       "1         06  06061  \n",
       "2         06  06017  \n",
       "3         06  06003  \n",
       "4         06  06003  "
      ]
     },
     "execution_count": 751,
     "metadata": {},
     "output_type": "execute_result"
    }
   ],
   "source": [
    "all_fires = all_fires.rename(columns={'FIPS_CODE':'COUNTY_CODE'})\n",
    "\n",
    "state_codes = {\n",
    "    'WA': '53', 'DE': '10', 'DC': '11', 'WI': '55', 'WV': '54', 'HI': '15',\n",
    "    'FL': '12', 'WY': '56', 'PR': '72', 'NJ': '34', 'NM': '35', 'TX': '48',\n",
    "    'LA': '22', 'NC': '37', 'ND': '38', 'NE': '31', 'TN': '47', 'NY': '36',\n",
    "    'PA': '42', 'AK': '02', 'NV': '32', 'NH': '33', 'VA': '51', 'CO': '08',\n",
    "    'CA': '06', 'AL': '01', 'AR': '05', 'VT': '50', 'IL': '17', 'GA': '13',\n",
    "    'IN': '18', 'IA': '19', 'MA': '25', 'AZ': '04', 'ID': '16', 'CT': '09',\n",
    "    'ME': '23', 'MD': '24', 'OK': '40', 'OH': '39', 'UT': '49', 'MO': '29',\n",
    "    'MN': '27', 'MI': '26', 'RI': '44', 'KS': '20', 'MT': '30', 'MS': '28',\n",
    "    'SC': '45', 'KY': '21', 'OR': '41', 'SD': '46'\n",
    "}\n",
    "\n",
    "all_fires['STATE_CODE'] = all_fires.STATE.apply(lambda x: state_codes[x])\n",
    "all_fires = all_fires.astype({'COUNTY_CODE':'str'})\n",
    "all_fires['FIPS'] = all_fires.STATE_CODE + all_fires.COUNTY_CODE\n",
    "all_fires = all_fires[all_fires.COUNTY_CODE != 'None']\n",
    "\n",
    "all_fires.head()"
   ]
  },
  {
   "cell_type": "markdown",
   "id": "labeled-cable",
   "metadata": {},
   "source": [
    "# Filtering Down to West Coast States"
   ]
  },
  {
   "cell_type": "markdown",
   "id": "superb-monaco",
   "metadata": {},
   "source": [
    "# EDIT THIS CELL WHEN ADDING STATES"
   ]
  },
  {
   "cell_type": "code",
   "execution_count": 752,
   "id": "extreme-vegetarian",
   "metadata": {},
   "outputs": [],
   "source": [
    "wa_filter = (all_fires['FIRE_YEAR'].apply(lambda x: int(x)) >= 1998) & (all_fires['STATE'] == 'WA')\n",
    "wa_fires = all_fires[wa_filter ]\n",
    "\n",
    "ca_filter = (all_fires['FIRE_YEAR'].apply(lambda x: int(x)) >= 1998) & (all_fires['STATE'] == 'CA')\n",
    "ca_fires = all_fires[ca_filter ]\n",
    "\n",
    "or_filter = (all_fires['FIRE_YEAR'].apply(lambda x: int(x)) >= 1998) & (all_fires['STATE'] == 'OR')\n",
    "or_fires = all_fires[or_filter ]\n",
    "\n",
    "nv_filter = (all_fires['FIRE_YEAR'].apply(lambda x: int(x)) >= 1998) & (all_fires['STATE'] == 'NV')\n",
    "nv_fires = all_fires[nv_filter]\n",
    "\n",
    "ut_filter = (all_fires['FIRE_YEAR'].apply(lambda x: int(x)) >= 1998) & (all_fires['STATE'] == 'UT')\n",
    "ut_fires = all_fires[ut_filter]\n",
    "\n",
    "westcoast_fires = pd.concat([wa_fires, ca_fires, or_fires, nv_fires, ut_fires])"
   ]
  },
  {
   "cell_type": "code",
   "execution_count": 753,
   "id": "threatened-store",
   "metadata": {},
   "outputs": [
    {
     "data": {
      "text/plain": [
       "FIRE_NAME  FIRE_YEAR  FIRE_SIZE  STATE  COUNTY  COUNTY_CODE  FIPS_NAME  STATE_CODE  FIPS \n",
       "False      False      False      False  False   False        False      False       False    17344\n",
       "True       False      False      False  False   False        False      False       False     2587\n",
       "dtype: int64"
      ]
     },
     "execution_count": 753,
     "metadata": {},
     "output_type": "execute_result"
    }
   ],
   "source": [
    "ut_fires.isna().value_counts()"
   ]
  },
  {
   "cell_type": "code",
   "execution_count": 754,
   "id": "assured-orleans",
   "metadata": {},
   "outputs": [
    {
     "data": {
      "text/plain": [
       "CA    56195\n",
       "OR    34220\n",
       "UT    19931\n",
       "WA    19080\n",
       "NV    10929\n",
       "Name: STATE, dtype: int64"
      ]
     },
     "execution_count": 754,
     "metadata": {},
     "output_type": "execute_result"
    }
   ],
   "source": [
    "westcoast_fires.STATE.value_counts()"
   ]
  },
  {
   "cell_type": "markdown",
   "id": "educational-welcome",
   "metadata": {},
   "source": [
    "# Grouping Fires by FIPS-Year"
   ]
  },
  {
   "cell_type": "code",
   "execution_count": 755,
   "id": "unlimited-pierre",
   "metadata": {},
   "outputs": [],
   "source": [
    "westcoast_fires['FIPS-YEAR'] = westcoast_fires['FIPS'] + ' ' + westcoast_fires['FIRE_YEAR'].apply(lambda x: str(x))\n",
    "fires = pd.DataFrame(westcoast_fires.groupby(['FIPS-YEAR','STATE'])['FIRE_SIZE'].sum())\n",
    "fires = fires.reset_index()"
   ]
  },
  {
   "cell_type": "markdown",
   "id": "tested-intermediate",
   "metadata": {},
   "source": [
    "# Importing and Processing West Coast Climate Data\n",
    "I also had to add in counties that were missing from the dataset due to no wildfires occuring during a given year. "
   ]
  },
  {
   "cell_type": "code",
   "execution_count": 756,
   "id": "higher-rabbit",
   "metadata": {},
   "outputs": [],
   "source": [
    "ca_precip = climate_preprocessor('/Users/patricknorman/Downloads/ca_precip.csv',\n",
    "                                 '06',\n",
    "                                 'precip',\n",
    "                                 'precip_rank',\n",
    "                                 'precip_anomaly',\n",
    "                                 'precip_mean')\n",
    "\n",
    "ca_temp = climate_preprocessor('/Users/patricknorman/Downloads/4-tavg.csv',\n",
    "                               '06',\n",
    "                               'temp',\n",
    "                               'temp_rank',\n",
    "                               'temp_anomaly',\n",
    "                               'temp_mean')"
   ]
  },
  {
   "cell_type": "code",
   "execution_count": 757,
   "id": "official-repository",
   "metadata": {},
   "outputs": [],
   "source": [
    "or_temp = climate_preprocessor('/Users/patricknorman/Downloads/or_temp.csv',\n",
    "                               '41',\n",
    "                               'temp',\n",
    "                               'temp_rank',\n",
    "                               'temp_anomaly',\n",
    "                               'temp_mean')\n",
    "\n",
    "or_precip = climate_preprocessor('/Users/patricknorman/Downloads/35-pcp.csv',\n",
    "                                 '41',\n",
    "                                 'precip',\n",
    "                                 'precip_rank',\n",
    "                                 'precip_anomaly',\n",
    "                                 'precip_mean')"
   ]
  },
  {
   "cell_type": "code",
   "execution_count": 758,
   "id": "acting-detector",
   "metadata": {},
   "outputs": [],
   "source": [
    "wa_temp = climate_preprocessor('/Users/patricknorman/Downloads/45-tavg.csv',\n",
    "                               '53',\n",
    "                               'temp',\n",
    "                               'temp_rank',\n",
    "                               'temp_anomaly',\n",
    "                               'temp_mean')\n",
    "\n",
    "wa_precip = climate_preprocessor('/Users/patricknorman/Downloads/45-pcp.csv',\n",
    "                                 '53',\n",
    "                                 'precip',\n",
    "                                 'precip_rank',\n",
    "                                 'precip_anomaly',\n",
    "                                 'precip_mean')"
   ]
  },
  {
   "cell_type": "code",
   "execution_count": 759,
   "id": "infrared-persian",
   "metadata": {},
   "outputs": [],
   "source": [
    "nv_temp = climate_preprocessor_v2('/Users/patricknorman/Downloads/26-tavg.csv',\n",
    "                                  'NV',\n",
    "                                  'temp',\n",
    "                                  '1998',\n",
    "                                  '2015')\n",
    "\n",
    "nv_precip = climate_preprocessor_v2('/Users/patricknorman/Downloads/26-pcp.csv',\n",
    "                                  'NV',\n",
    "                                  'precip',\n",
    "                                  '1998',\n",
    "                                  '2015')"
   ]
  },
  {
   "cell_type": "code",
   "execution_count": 760,
   "id": "incoming-challenge",
   "metadata": {},
   "outputs": [],
   "source": [
    "ut_temp = climate_preprocessor_v2('/Users/patricknorman/Downloads/42-tavg.csv',\n",
    "                                  'UT',\n",
    "                                  'temp',\n",
    "                                  '1998',\n",
    "                                  '2015')\n",
    "\n",
    "ut_precip = climate_preprocessor_v2('/Users/patricknorman/Downloads/42-pcp.csv',\n",
    "                                  'UT',\n",
    "                                  'precip',\n",
    "                                  '1998',\n",
    "                                  '2015')"
   ]
  },
  {
   "cell_type": "markdown",
   "id": "presidential-fourth",
   "metadata": {},
   "source": [
    "# EDIT THIS CELL WHEN ADDING STATES"
   ]
  },
  {
   "cell_type": "code",
   "execution_count": 761,
   "id": "single-tackle",
   "metadata": {},
   "outputs": [],
   "source": [
    "ca_climate = pd.merge(ca_temp, ca_precip, on = 'FIPS-YEAR')\n",
    "or_climate = pd.merge(or_temp, or_precip, on = 'FIPS-YEAR')\n",
    "wa_climate = pd.merge(wa_temp, wa_precip, on = 'FIPS-YEAR')\n",
    "nv_climate = pd.merge(nv_temp, nv_precip, on = 'FIPS-YEAR')\n",
    "ut_climate = pd.merge(ut_temp, ut_precip, on = 'FIPS-YEAR')\n",
    "\n",
    "westcoast_climate = pd.concat([wa_climate, or_climate, ca_climate, nv_climate, ut_climate])"
   ]
  },
  {
   "cell_type": "code",
   "execution_count": 823,
   "id": "second-iceland",
   "metadata": {},
   "outputs": [
    {
     "data": {
      "text/html": [
       "<div>\n",
       "<style scoped>\n",
       "    .dataframe tbody tr th:only-of-type {\n",
       "        vertical-align: middle;\n",
       "    }\n",
       "\n",
       "    .dataframe tbody tr th {\n",
       "        vertical-align: top;\n",
       "    }\n",
       "\n",
       "    .dataframe thead th {\n",
       "        text-align: right;\n",
       "    }\n",
       "</style>\n",
       "<table border=\"1\" class=\"dataframe\">\n",
       "  <thead>\n",
       "    <tr style=\"text-align: right;\">\n",
       "      <th></th>\n",
       "      <th>FIPS-YEAR</th>\n",
       "      <th>temp</th>\n",
       "      <th>temp_rank</th>\n",
       "      <th>temp_anomaly</th>\n",
       "      <th>temp_mean</th>\n",
       "      <th>precip</th>\n",
       "      <th>precip_rank</th>\n",
       "      <th>precip_anomaly</th>\n",
       "      <th>precip_mean</th>\n",
       "    </tr>\n",
       "  </thead>\n",
       "  <tbody>\n",
       "    <tr>\n",
       "      <th>0</th>\n",
       "      <td>32001 1998</td>\n",
       "      <td>50.416667</td>\n",
       "      <td>60.916667</td>\n",
       "      <td>-0.033333</td>\n",
       "      <td>50.45</td>\n",
       "      <td>1.085833</td>\n",
       "      <td>89.666667</td>\n",
       "      <td>0.529167</td>\n",
       "      <td>0.556667</td>\n",
       "    </tr>\n",
       "    <tr>\n",
       "      <th>1</th>\n",
       "      <td>32001 1999</td>\n",
       "      <td>51.458333</td>\n",
       "      <td>71.083333</td>\n",
       "      <td>1.008333</td>\n",
       "      <td>50.45</td>\n",
       "      <td>0.328333</td>\n",
       "      <td>46.500000</td>\n",
       "      <td>-0.228333</td>\n",
       "      <td>0.556667</td>\n",
       "    </tr>\n",
       "    <tr>\n",
       "      <th>2</th>\n",
       "      <td>32001 2000</td>\n",
       "      <td>52.333333</td>\n",
       "      <td>82.500000</td>\n",
       "      <td>1.883333</td>\n",
       "      <td>50.45</td>\n",
       "      <td>0.579167</td>\n",
       "      <td>70.666667</td>\n",
       "      <td>0.022500</td>\n",
       "      <td>0.556667</td>\n",
       "    </tr>\n",
       "    <tr>\n",
       "      <th>3</th>\n",
       "      <td>32001 2001</td>\n",
       "      <td>52.658333</td>\n",
       "      <td>88.416667</td>\n",
       "      <td>2.208333</td>\n",
       "      <td>50.45</td>\n",
       "      <td>0.411667</td>\n",
       "      <td>53.833333</td>\n",
       "      <td>-0.145000</td>\n",
       "      <td>0.556667</td>\n",
       "    </tr>\n",
       "    <tr>\n",
       "      <th>4</th>\n",
       "      <td>32001 2002</td>\n",
       "      <td>51.666667</td>\n",
       "      <td>74.916667</td>\n",
       "      <td>1.216667</td>\n",
       "      <td>50.45</td>\n",
       "      <td>0.277500</td>\n",
       "      <td>46.500000</td>\n",
       "      <td>-0.279167</td>\n",
       "      <td>0.556667</td>\n",
       "    </tr>\n",
       "    <tr>\n",
       "      <th>...</th>\n",
       "      <td>...</td>\n",
       "      <td>...</td>\n",
       "      <td>...</td>\n",
       "      <td>...</td>\n",
       "      <td>...</td>\n",
       "      <td>...</td>\n",
       "      <td>...</td>\n",
       "      <td>...</td>\n",
       "      <td>...</td>\n",
       "    </tr>\n",
       "    <tr>\n",
       "      <th>301</th>\n",
       "      <td>32510 2011</td>\n",
       "      <td>48.408333</td>\n",
       "      <td>55.250000</td>\n",
       "      <td>-0.391667</td>\n",
       "      <td>48.80</td>\n",
       "      <td>0.950000</td>\n",
       "      <td>55.500000</td>\n",
       "      <td>-0.311667</td>\n",
       "      <td>1.261667</td>\n",
       "    </tr>\n",
       "    <tr>\n",
       "      <th>302</th>\n",
       "      <td>32510 2012</td>\n",
       "      <td>51.150000</td>\n",
       "      <td>91.500000</td>\n",
       "      <td>2.350000</td>\n",
       "      <td>48.80</td>\n",
       "      <td>1.070833</td>\n",
       "      <td>57.416667</td>\n",
       "      <td>-0.190833</td>\n",
       "      <td>1.261667</td>\n",
       "    </tr>\n",
       "    <tr>\n",
       "      <th>303</th>\n",
       "      <td>32510 2013</td>\n",
       "      <td>49.916667</td>\n",
       "      <td>75.250000</td>\n",
       "      <td>1.116667</td>\n",
       "      <td>48.80</td>\n",
       "      <td>0.430000</td>\n",
       "      <td>44.166667</td>\n",
       "      <td>-0.831667</td>\n",
       "      <td>1.261667</td>\n",
       "    </tr>\n",
       "    <tr>\n",
       "      <th>304</th>\n",
       "      <td>32510 2014</td>\n",
       "      <td>52.558333</td>\n",
       "      <td>109.333333</td>\n",
       "      <td>3.758333</td>\n",
       "      <td>48.80</td>\n",
       "      <td>0.968333</td>\n",
       "      <td>64.333333</td>\n",
       "      <td>-0.293333</td>\n",
       "      <td>1.261667</td>\n",
       "    </tr>\n",
       "    <tr>\n",
       "      <th>305</th>\n",
       "      <td>32510 2015</td>\n",
       "      <td>52.000000</td>\n",
       "      <td>90.333333</td>\n",
       "      <td>3.200000</td>\n",
       "      <td>48.80</td>\n",
       "      <td>1.182500</td>\n",
       "      <td>73.416667</td>\n",
       "      <td>-0.079167</td>\n",
       "      <td>1.261667</td>\n",
       "    </tr>\n",
       "  </tbody>\n",
       "</table>\n",
       "<p>306 rows × 9 columns</p>\n",
       "</div>"
      ],
      "text/plain": [
       "      FIPS-YEAR       temp   temp_rank  temp_anomaly  temp_mean    precip  \\\n",
       "0    32001 1998  50.416667   60.916667     -0.033333      50.45  1.085833   \n",
       "1    32001 1999  51.458333   71.083333      1.008333      50.45  0.328333   \n",
       "2    32001 2000  52.333333   82.500000      1.883333      50.45  0.579167   \n",
       "3    32001 2001  52.658333   88.416667      2.208333      50.45  0.411667   \n",
       "4    32001 2002  51.666667   74.916667      1.216667      50.45  0.277500   \n",
       "..          ...        ...         ...           ...        ...       ...   \n",
       "301  32510 2011  48.408333   55.250000     -0.391667      48.80  0.950000   \n",
       "302  32510 2012  51.150000   91.500000      2.350000      48.80  1.070833   \n",
       "303  32510 2013  49.916667   75.250000      1.116667      48.80  0.430000   \n",
       "304  32510 2014  52.558333  109.333333      3.758333      48.80  0.968333   \n",
       "305  32510 2015  52.000000   90.333333      3.200000      48.80  1.182500   \n",
       "\n",
       "     precip_rank  precip_anomaly  precip_mean  \n",
       "0      89.666667        0.529167     0.556667  \n",
       "1      46.500000       -0.228333     0.556667  \n",
       "2      70.666667        0.022500     0.556667  \n",
       "3      53.833333       -0.145000     0.556667  \n",
       "4      46.500000       -0.279167     0.556667  \n",
       "..           ...             ...          ...  \n",
       "301    55.500000       -0.311667     1.261667  \n",
       "302    57.416667       -0.190833     1.261667  \n",
       "303    44.166667       -0.831667     1.261667  \n",
       "304    64.333333       -0.293333     1.261667  \n",
       "305    73.416667       -0.079167     1.261667  \n",
       "\n",
       "[306 rows x 9 columns]"
      ]
     },
     "execution_count": 823,
     "metadata": {},
     "output_type": "execute_result"
    }
   ],
   "source": [
    "nv_climate"
   ]
  },
  {
   "cell_type": "code",
   "execution_count": 762,
   "id": "precious-ready",
   "metadata": {},
   "outputs": [
    {
     "data": {
      "text/html": [
       "<div>\n",
       "<style scoped>\n",
       "    .dataframe tbody tr th:only-of-type {\n",
       "        vertical-align: middle;\n",
       "    }\n",
       "\n",
       "    .dataframe tbody tr th {\n",
       "        vertical-align: top;\n",
       "    }\n",
       "\n",
       "    .dataframe thead th {\n",
       "        text-align: right;\n",
       "    }\n",
       "</style>\n",
       "<table border=\"1\" class=\"dataframe\">\n",
       "  <thead>\n",
       "    <tr style=\"text-align: right;\">\n",
       "      <th></th>\n",
       "      <th>FIPS-YEAR</th>\n",
       "      <th>temp</th>\n",
       "      <th>temp_rank</th>\n",
       "      <th>temp_anomaly</th>\n",
       "      <th>temp_mean</th>\n",
       "      <th>precip</th>\n",
       "      <th>precip_rank</th>\n",
       "      <th>precip_anomaly</th>\n",
       "      <th>precip_mean</th>\n",
       "    </tr>\n",
       "  </thead>\n",
       "  <tbody>\n",
       "    <tr>\n",
       "      <th>517</th>\n",
       "      <td>49057 2011</td>\n",
       "      <td>44.800000</td>\n",
       "      <td>61.583333</td>\n",
       "      <td>0.116667</td>\n",
       "      <td>44.683333</td>\n",
       "      <td>2.710000</td>\n",
       "      <td>79.833333</td>\n",
       "      <td>0.471667</td>\n",
       "      <td>2.238333</td>\n",
       "    </tr>\n",
       "    <tr>\n",
       "      <th>518</th>\n",
       "      <td>49057 2012</td>\n",
       "      <td>48.558333</td>\n",
       "      <td>105.166667</td>\n",
       "      <td>3.875000</td>\n",
       "      <td>44.683333</td>\n",
       "      <td>1.786667</td>\n",
       "      <td>51.333333</td>\n",
       "      <td>-0.451667</td>\n",
       "      <td>2.238333</td>\n",
       "    </tr>\n",
       "    <tr>\n",
       "      <th>519</th>\n",
       "      <td>49057 2013</td>\n",
       "      <td>45.658333</td>\n",
       "      <td>75.500000</td>\n",
       "      <td>0.975000</td>\n",
       "      <td>44.683333</td>\n",
       "      <td>1.480833</td>\n",
       "      <td>42.250000</td>\n",
       "      <td>-0.757500</td>\n",
       "      <td>2.238333</td>\n",
       "    </tr>\n",
       "    <tr>\n",
       "      <th>520</th>\n",
       "      <td>49057 2014</td>\n",
       "      <td>47.725000</td>\n",
       "      <td>94.000000</td>\n",
       "      <td>3.041667</td>\n",
       "      <td>44.683333</td>\n",
       "      <td>2.370000</td>\n",
       "      <td>72.583333</td>\n",
       "      <td>0.131667</td>\n",
       "      <td>2.238333</td>\n",
       "    </tr>\n",
       "    <tr>\n",
       "      <th>521</th>\n",
       "      <td>49057 2015</td>\n",
       "      <td>48.858333</td>\n",
       "      <td>94.583333</td>\n",
       "      <td>4.175000</td>\n",
       "      <td>44.683333</td>\n",
       "      <td>2.115833</td>\n",
       "      <td>60.833333</td>\n",
       "      <td>-0.122500</td>\n",
       "      <td>2.238333</td>\n",
       "    </tr>\n",
       "  </tbody>\n",
       "</table>\n",
       "</div>"
      ],
      "text/plain": [
       "      FIPS-YEAR       temp   temp_rank  temp_anomaly  temp_mean    precip  \\\n",
       "517  49057 2011  44.800000   61.583333      0.116667  44.683333  2.710000   \n",
       "518  49057 2012  48.558333  105.166667      3.875000  44.683333  1.786667   \n",
       "519  49057 2013  45.658333   75.500000      0.975000  44.683333  1.480833   \n",
       "520  49057 2014  47.725000   94.000000      3.041667  44.683333  2.370000   \n",
       "521  49057 2015  48.858333   94.583333      4.175000  44.683333  2.115833   \n",
       "\n",
       "     precip_rank  precip_anomaly  precip_mean  \n",
       "517    79.833333        0.471667     2.238333  \n",
       "518    51.333333       -0.451667     2.238333  \n",
       "519    42.250000       -0.757500     2.238333  \n",
       "520    72.583333        0.131667     2.238333  \n",
       "521    60.833333       -0.122500     2.238333  "
      ]
     },
     "execution_count": 762,
     "metadata": {},
     "output_type": "execute_result"
    }
   ],
   "source": [
    "ut_climate.tail()"
   ]
  },
  {
   "cell_type": "code",
   "execution_count": 763,
   "id": "proof-century",
   "metadata": {},
   "outputs": [
    {
     "data": {
      "text/html": [
       "<div>\n",
       "<style scoped>\n",
       "    .dataframe tbody tr th:only-of-type {\n",
       "        vertical-align: middle;\n",
       "    }\n",
       "\n",
       "    .dataframe tbody tr th {\n",
       "        vertical-align: top;\n",
       "    }\n",
       "\n",
       "    .dataframe thead th {\n",
       "        text-align: right;\n",
       "    }\n",
       "</style>\n",
       "<table border=\"1\" class=\"dataframe\">\n",
       "  <thead>\n",
       "    <tr style=\"text-align: right;\">\n",
       "      <th></th>\n",
       "      <th>FIPS-YEAR</th>\n",
       "      <th>temp</th>\n",
       "      <th>temp_rank</th>\n",
       "      <th>temp_anomaly</th>\n",
       "      <th>temp_mean</th>\n",
       "      <th>precip</th>\n",
       "      <th>precip_rank</th>\n",
       "      <th>precip_anomaly</th>\n",
       "      <th>precip_mean</th>\n",
       "    </tr>\n",
       "  </thead>\n",
       "  <tbody>\n",
       "    <tr>\n",
       "      <th>517</th>\n",
       "      <td>49057 2011</td>\n",
       "      <td>44.800000</td>\n",
       "      <td>61.583333</td>\n",
       "      <td>0.116667</td>\n",
       "      <td>44.683333</td>\n",
       "      <td>2.710000</td>\n",
       "      <td>79.833333</td>\n",
       "      <td>0.471667</td>\n",
       "      <td>2.238333</td>\n",
       "    </tr>\n",
       "    <tr>\n",
       "      <th>518</th>\n",
       "      <td>49057 2012</td>\n",
       "      <td>48.558333</td>\n",
       "      <td>105.166667</td>\n",
       "      <td>3.875000</td>\n",
       "      <td>44.683333</td>\n",
       "      <td>1.786667</td>\n",
       "      <td>51.333333</td>\n",
       "      <td>-0.451667</td>\n",
       "      <td>2.238333</td>\n",
       "    </tr>\n",
       "    <tr>\n",
       "      <th>519</th>\n",
       "      <td>49057 2013</td>\n",
       "      <td>45.658333</td>\n",
       "      <td>75.500000</td>\n",
       "      <td>0.975000</td>\n",
       "      <td>44.683333</td>\n",
       "      <td>1.480833</td>\n",
       "      <td>42.250000</td>\n",
       "      <td>-0.757500</td>\n",
       "      <td>2.238333</td>\n",
       "    </tr>\n",
       "    <tr>\n",
       "      <th>520</th>\n",
       "      <td>49057 2014</td>\n",
       "      <td>47.725000</td>\n",
       "      <td>94.000000</td>\n",
       "      <td>3.041667</td>\n",
       "      <td>44.683333</td>\n",
       "      <td>2.370000</td>\n",
       "      <td>72.583333</td>\n",
       "      <td>0.131667</td>\n",
       "      <td>2.238333</td>\n",
       "    </tr>\n",
       "    <tr>\n",
       "      <th>521</th>\n",
       "      <td>49057 2015</td>\n",
       "      <td>48.858333</td>\n",
       "      <td>94.583333</td>\n",
       "      <td>4.175000</td>\n",
       "      <td>44.683333</td>\n",
       "      <td>2.115833</td>\n",
       "      <td>60.833333</td>\n",
       "      <td>-0.122500</td>\n",
       "      <td>2.238333</td>\n",
       "    </tr>\n",
       "  </tbody>\n",
       "</table>\n",
       "</div>"
      ],
      "text/plain": [
       "      FIPS-YEAR       temp   temp_rank  temp_anomaly  temp_mean    precip  \\\n",
       "517  49057 2011  44.800000   61.583333      0.116667  44.683333  2.710000   \n",
       "518  49057 2012  48.558333  105.166667      3.875000  44.683333  1.786667   \n",
       "519  49057 2013  45.658333   75.500000      0.975000  44.683333  1.480833   \n",
       "520  49057 2014  47.725000   94.000000      3.041667  44.683333  2.370000   \n",
       "521  49057 2015  48.858333   94.583333      4.175000  44.683333  2.115833   \n",
       "\n",
       "     precip_rank  precip_anomaly  precip_mean  \n",
       "517    79.833333        0.471667     2.238333  \n",
       "518    51.333333       -0.451667     2.238333  \n",
       "519    42.250000       -0.757500     2.238333  \n",
       "520    72.583333        0.131667     2.238333  \n",
       "521    60.833333       -0.122500     2.238333  "
      ]
     },
     "execution_count": 763,
     "metadata": {},
     "output_type": "execute_result"
    }
   ],
   "source": [
    "westcoast_climate.tail()"
   ]
  },
  {
   "cell_type": "markdown",
   "id": "hybrid-oklahoma",
   "metadata": {},
   "source": [
    "# Inserting Missing FIPS-YEARS into the fires df"
   ]
  },
  {
   "cell_type": "code",
   "execution_count": 764,
   "id": "occupied-thesis",
   "metadata": {},
   "outputs": [],
   "source": [
    "# creating list of all FIPS-YEAR combos for California\n",
    "\n",
    "ca_fips = [num for num in (range(116))]\n",
    "\n",
    "\n",
    "for i in range(len(ca_fips)):\n",
    "    ca_fips[i] = str(ca_fips[i])\n",
    "    \n",
    "    while len(ca_fips[i]) < 3:\n",
    "        ca_fips[i] = '0' + ca_fips[i]\n",
    "        \n",
    "    ca_fips[i] = '06'+ ca_fips[i] \n",
    "    \n",
    "ca_fips = ca_fips[1::2]"
   ]
  },
  {
   "cell_type": "code",
   "execution_count": 765,
   "id": "vocational-location",
   "metadata": {},
   "outputs": [],
   "source": [
    "# creating list of all FIPS-YEAR combos for Oregon\n",
    "\n",
    "or_fips = [num for num in range(72)]\n",
    "\n",
    "\n",
    "for i in range(len(or_fips)):\n",
    "    or_fips[i] = str(or_fips[i])\n",
    "    \n",
    "    while len(or_fips[i]) < 3:\n",
    "        or_fips[i] = '0' + or_fips[i]\n",
    "        \n",
    "    or_fips[i] = '41'+ or_fips[i] \n",
    "    \n",
    "or_fips = or_fips[1::2]"
   ]
  },
  {
   "cell_type": "code",
   "execution_count": 766,
   "id": "checked-speaker",
   "metadata": {},
   "outputs": [],
   "source": [
    "# creating list of all FIPS-YEAR combos for Washington\n",
    "\n",
    "wa_fips = [num for num in range(78)]\n",
    "\n",
    "\n",
    "for i in range(len(wa_fips)):\n",
    "    wa_fips[i] = str(wa_fips[i])\n",
    "    \n",
    "    while len(wa_fips[i]) < 3:\n",
    "        wa_fips[i] = '0' + wa_fips[i]\n",
    "        \n",
    "    wa_fips[i] = '53'+ wa_fips[i] \n",
    "    \n",
    "wa_fips = wa_fips[1::2]"
   ]
  },
  {
   "cell_type": "code",
   "execution_count": 767,
   "id": "dutch-schema",
   "metadata": {},
   "outputs": [
    {
     "data": {
      "text/plain": [
       "['32001',\n",
       " '32003',\n",
       " '32005',\n",
       " '32007',\n",
       " '32009',\n",
       " '32011',\n",
       " '32013',\n",
       " '32015',\n",
       " '32017',\n",
       " '32019',\n",
       " '32021',\n",
       " '32023',\n",
       " '32025',\n",
       " '32027',\n",
       " '32029',\n",
       " '32031',\n",
       " '32033',\n",
       " '32510']"
      ]
     },
     "execution_count": 767,
     "metadata": {},
     "output_type": "execute_result"
    }
   ],
   "source": [
    "# creating list of all FIPS-YEAR combos for Nevada\n",
    "\n",
    "nv_fips = [num for num in range(34)]\n",
    "\n",
    "nv_fips.append(510) # I have to append 510 to cover Carson City. \n",
    "nv_fips.append(510) # Gotta do it twice to avoid being removed as I remove evens\n",
    "\n",
    "for i in range(len(nv_fips)):\n",
    "    nv_fips[i] = str(nv_fips[i])\n",
    "    \n",
    "    while len(nv_fips[i]) < 3:\n",
    "        nv_fips[i] = '0' + nv_fips[i]\n",
    "        \n",
    "    nv_fips[i] = '32'+ nv_fips[i] \n",
    "    \n",
    "nv_fips = nv_fips[1::2]\n",
    "\n",
    "nv_fips"
   ]
  },
  {
   "cell_type": "code",
   "execution_count": 768,
   "id": "dedicated-index",
   "metadata": {},
   "outputs": [],
   "source": [
    "# creating list of all FIPS-YEAR combos for Utah\n",
    "\n",
    "ut_fips = [num for num in range(58)]\n",
    "\n",
    "for i in range(len(ut_fips)):\n",
    "    ut_fips[i] = str(ut_fips[i])\n",
    "    \n",
    "    while len(ut_fips[i]) < 3:\n",
    "        ut_fips[i] = '0' + ut_fips[i]\n",
    "        \n",
    "    ut_fips[i] = '49'+ ut_fips[i] \n",
    "    \n",
    "ut_fips = ut_fips[1::2]"
   ]
  },
  {
   "cell_type": "code",
   "execution_count": 769,
   "id": "smooth-knitting",
   "metadata": {},
   "outputs": [],
   "source": [
    "# combining fips lists for west coast states\n",
    "\n",
    "state_fips = list()\n",
    "\n",
    "state_fips.append(ca_fips)\n",
    "\n",
    "\n",
    "state_fips.append(wa_fips)\n",
    "state_fips.append(or_fips)\n",
    "state_fips.append(nv_fips)\n",
    "state_fips.append(ut_fips)\n",
    "\n",
    "#state_fips"
   ]
  },
  {
   "cell_type": "code",
   "execution_count": 770,
   "id": "vocal-priority",
   "metadata": {},
   "outputs": [],
   "source": [
    "# flattening list of fips\n",
    "\n",
    "westcoast_fips = []\n",
    "for state in state_fips:\n",
    "    for fips in state:\n",
    "        westcoast_fips.append(fips)\n",
    "        \n",
    "# creating fips-year combinations\n",
    "\n",
    "fips_years = []\n",
    "\n",
    "year_list = list(range(1998,2016))\n",
    "year_list = [str(yr) for yr in year_list]\n",
    "\n",
    "for fip in westcoast_fips:\n",
    "    for year in year_list:\n",
    "        fips_years.append(fip + ' ' + year)"
   ]
  },
  {
   "cell_type": "code",
   "execution_count": 771,
   "id": "brazilian-tuesday",
   "metadata": {},
   "outputs": [
    {
     "name": "stdout",
     "output_type": "stream",
     "text": [
      "06001 2000 not in list\n",
      "06001 2008 not in list\n",
      "06001 2009 not in list\n",
      "06001 2010 not in list\n",
      "06003 1998 not in list\n",
      "06013 1998 not in list\n",
      "06013 2000 not in list\n",
      "06013 2001 not in list\n",
      "06013 2008 not in list\n",
      "06013 2009 not in list\n",
      "06013 2010 not in list\n",
      "06015 1998 not in list\n",
      "06015 2000 not in list\n",
      "06021 1999 not in list\n",
      "06021 2000 not in list\n",
      "06021 2001 not in list\n",
      "06021 2004 not in list\n",
      "06021 2005 not in list\n",
      "06025 1998 not in list\n",
      "06031 1998 not in list\n",
      "06031 1999 not in list\n",
      "06031 2000 not in list\n",
      "06031 2002 not in list\n",
      "06031 2003 not in list\n",
      "06031 2008 not in list\n",
      "06031 2009 not in list\n",
      "06031 2010 not in list\n",
      "06037 1998 not in list\n",
      "06037 2004 not in list\n",
      "06041 1998 not in list\n",
      "06041 1999 not in list\n",
      "06041 2000 not in list\n",
      "06041 2001 not in list\n",
      "06041 2002 not in list\n",
      "06041 2003 not in list\n",
      "06041 2005 not in list\n",
      "06041 2006 not in list\n",
      "06041 2007 not in list\n",
      "06041 2009 not in list\n",
      "06041 2010 not in list\n",
      "06047 1998 not in list\n",
      "06047 2000 not in list\n",
      "06047 2002 not in list\n",
      "06047 2004 not in list\n",
      "06047 2008 not in list\n",
      "06047 2009 not in list\n",
      "06047 2010 not in list\n",
      "06051 1998 not in list\n",
      "06055 2010 not in list\n",
      "06059 1998 not in list\n",
      "06059 2000 not in list\n",
      "06059 2001 not in list\n",
      "06059 2003 not in list\n",
      "06063 1999 not in list\n",
      "06067 1999 not in list\n",
      "06067 2000 not in list\n",
      "06067 2001 not in list\n",
      "06067 2003 not in list\n",
      "06067 2004 not in list\n",
      "06067 2005 not in list\n",
      "06067 2006 not in list\n",
      "06067 2007 not in list\n",
      "06067 2009 not in list\n",
      "06069 1999 not in list\n",
      "06069 2000 not in list\n",
      "06069 2009 not in list\n",
      "06075 1998 not in list\n",
      "06075 1999 not in list\n",
      "06075 2000 not in list\n",
      "06075 2001 not in list\n",
      "06075 2002 not in list\n",
      "06075 2003 not in list\n",
      "06075 2004 not in list\n",
      "06075 2005 not in list\n",
      "06075 2006 not in list\n",
      "06075 2007 not in list\n",
      "06075 2008 not in list\n",
      "06075 2009 not in list\n",
      "06075 2010 not in list\n",
      "06075 2012 not in list\n",
      "06075 2013 not in list\n",
      "06077 1998 not in list\n",
      "06077 1999 not in list\n",
      "06077 2000 not in list\n",
      "06077 2001 not in list\n",
      "06077 2002 not in list\n",
      "06077 2003 not in list\n",
      "06077 2004 not in list\n",
      "06077 2005 not in list\n",
      "06077 2006 not in list\n",
      "06077 2007 not in list\n",
      "06077 2008 not in list\n",
      "06077 2009 not in list\n",
      "06077 2010 not in list\n",
      "06081 1998 not in list\n",
      "06081 1999 not in list\n",
      "06081 2001 not in list\n",
      "06081 2002 not in list\n",
      "06081 2003 not in list\n",
      "06081 2004 not in list\n",
      "06081 2005 not in list\n",
      "06081 2008 not in list\n",
      "06081 2009 not in list\n",
      "06081 2010 not in list\n",
      "06083 2005 not in list\n",
      "06085 2006 not in list\n",
      "06085 2008 not in list\n",
      "06085 2009 not in list\n",
      "06085 2010 not in list\n",
      "06087 1998 not in list\n",
      "06087 1999 not in list\n",
      "06087 2000 not in list\n",
      "06087 2001 not in list\n",
      "06087 2002 not in list\n",
      "06087 2003 not in list\n",
      "06087 2004 not in list\n",
      "06087 2005 not in list\n",
      "06087 2008 not in list\n",
      "06087 2009 not in list\n",
      "06087 2010 not in list\n",
      "06095 1998 not in list\n",
      "06095 1999 not in list\n",
      "06095 2008 not in list\n",
      "06095 2009 not in list\n",
      "06095 2010 not in list\n",
      "06097 2008 not in list\n",
      "06097 2009 not in list\n",
      "06097 2010 not in list\n",
      "06099 1998 not in list\n",
      "06099 1999 not in list\n",
      "06099 2003 not in list\n",
      "06099 2004 not in list\n",
      "06099 2008 not in list\n",
      "06099 2009 not in list\n",
      "06099 2010 not in list\n",
      "06101 1998 not in list\n",
      "06101 1999 not in list\n",
      "06101 2000 not in list\n",
      "06101 2001 not in list\n",
      "06101 2002 not in list\n",
      "06101 2003 not in list\n",
      "06101 2004 not in list\n",
      "06101 2005 not in list\n",
      "06101 2006 not in list\n",
      "06101 2007 not in list\n",
      "06101 2008 not in list\n",
      "06101 2009 not in list\n",
      "06101 2010 not in list\n",
      "06101 2012 not in list\n",
      "06111 1998 not in list\n",
      "06111 1999 not in list\n",
      "06111 2000 not in list\n",
      "06111 2001 not in list\n",
      "06111 2002 not in list\n",
      "06111 2004 not in list\n",
      "06113 2008 not in list\n",
      "06113 2010 not in list\n",
      "53001 1998 not in list\n",
      "53001 1999 not in list\n",
      "53001 2000 not in list\n",
      "53001 2001 not in list\n",
      "53001 2002 not in list\n",
      "53001 2003 not in list\n",
      "53001 2004 not in list\n",
      "53001 2005 not in list\n",
      "53001 2006 not in list\n",
      "53001 2007 not in list\n",
      "53001 2008 not in list\n",
      "53001 2009 not in list\n",
      "53001 2010 not in list\n",
      "53001 2011 not in list\n",
      "53001 2012 not in list\n",
      "53001 2013 not in list\n",
      "53003 2011 not in list\n",
      "53005 1998 not in list\n",
      "53005 1999 not in list\n",
      "53005 2004 not in list\n",
      "53005 2006 not in list\n",
      "53005 2010 not in list\n",
      "53017 1998 not in list\n",
      "53017 2013 not in list\n",
      "53021 1998 not in list\n",
      "53021 2000 not in list\n",
      "53021 2001 not in list\n",
      "53021 2005 not in list\n",
      "53021 2007 not in list\n",
      "53021 2009 not in list\n",
      "53021 2014 not in list\n",
      "53023 2005 not in list\n",
      "53025 1998 not in list\n",
      "53025 1999 not in list\n",
      "53025 2001 not in list\n",
      "53025 2003 not in list\n",
      "53025 2005 not in list\n",
      "53025 2009 not in list\n",
      "53029 2011 not in list\n",
      "53035 1998 not in list\n",
      "53035 2010 not in list\n",
      "53035 2011 not in list\n",
      "53035 2012 not in list\n",
      "53069 1999 not in list\n",
      "53069 2003 not in list\n",
      "53069 2007 not in list\n",
      "53069 2011 not in list\n",
      "53071 2000 not in list\n",
      "53071 2004 not in list\n",
      "53071 2011 not in list\n",
      "53075 1998 not in list\n",
      "53075 1999 not in list\n",
      "53075 2000 not in list\n",
      "53075 2001 not in list\n",
      "53075 2002 not in list\n",
      "53075 2003 not in list\n",
      "53075 2004 not in list\n",
      "53075 2005 not in list\n",
      "53075 2010 not in list\n",
      "53075 2011 not in list\n",
      "53075 2012 not in list\n",
      "53075 2013 not in list\n",
      "53075 2014 not in list\n",
      "53075 2015 not in list\n",
      "41021 1998 not in list\n",
      "41021 2005 not in list\n",
      "41021 2006 not in list\n",
      "41021 2009 not in list\n",
      "41045 1998 not in list\n",
      "41049 2011 not in list\n",
      "41055 1998 not in list\n",
      "41055 2010 not in list\n",
      "32001 1998 not in list\n",
      "32003 1998 not in list\n",
      "32009 1998 not in list\n",
      "32009 2001 not in list\n",
      "32009 2005 not in list\n",
      "32009 2008 not in list\n",
      "32009 2009 not in list\n",
      "32009 2010 not in list\n",
      "32009 2012 not in list\n",
      "32009 2014 not in list\n",
      "32011 1998 not in list\n",
      "32013 1998 not in list\n",
      "32015 1998 not in list\n",
      "32017 1998 not in list\n",
      "32019 1998 not in list\n",
      "32021 1998 not in list\n",
      "32021 2007 not in list\n",
      "32021 2015 not in list\n",
      "32023 1998 not in list\n",
      "32025 1998 not in list\n",
      "32025 1999 not in list\n",
      "32025 2000 not in list\n",
      "32025 2001 not in list\n",
      "32025 2002 not in list\n",
      "32025 2003 not in list\n",
      "32025 2004 not in list\n",
      "32025 2005 not in list\n",
      "32025 2006 not in list\n",
      "32025 2007 not in list\n",
      "32025 2008 not in list\n",
      "32025 2009 not in list\n",
      "32025 2010 not in list\n",
      "32025 2011 not in list\n",
      "32025 2012 not in list\n",
      "32025 2013 not in list\n",
      "32025 2014 not in list\n",
      "32025 2015 not in list\n",
      "32027 1998 not in list\n",
      "32029 1998 not in list\n",
      "32029 2008 not in list\n",
      "32029 2013 not in list\n",
      "32031 1998 not in list\n",
      "32510 1998 not in list\n",
      "49011 2008 not in list\n",
      "49029 2015 not in list\n",
      "49035 1998 not in list\n",
      "49035 1999 not in list\n",
      "49035 2004 not in list\n"
     ]
    },
    {
     "data": {
      "text/plain": [
       "{'06001 2000': ['CA', 0],\n",
       " '06001 2008': ['CA', 0],\n",
       " '06001 2009': ['CA', 0],\n",
       " '06001 2010': ['CA', 0],\n",
       " '06003 1998': ['CA', 0],\n",
       " '06013 1998': ['CA', 0],\n",
       " '06013 2000': ['CA', 0],\n",
       " '06013 2001': ['CA', 0],\n",
       " '06013 2008': ['CA', 0],\n",
       " '06013 2009': ['CA', 0],\n",
       " '06013 2010': ['CA', 0],\n",
       " '06015 1998': ['CA', 0],\n",
       " '06015 2000': ['CA', 0],\n",
       " '06021 1999': ['CA', 0],\n",
       " '06021 2000': ['CA', 0],\n",
       " '06021 2001': ['CA', 0],\n",
       " '06021 2004': ['CA', 0],\n",
       " '06021 2005': ['CA', 0],\n",
       " '06025 1998': ['CA', 0],\n",
       " '06031 1998': ['CA', 0],\n",
       " '06031 1999': ['CA', 0],\n",
       " '06031 2000': ['CA', 0],\n",
       " '06031 2002': ['CA', 0],\n",
       " '06031 2003': ['CA', 0],\n",
       " '06031 2008': ['CA', 0],\n",
       " '06031 2009': ['CA', 0],\n",
       " '06031 2010': ['CA', 0],\n",
       " '06037 1998': ['CA', 0],\n",
       " '06037 2004': ['CA', 0],\n",
       " '06041 1998': ['CA', 0],\n",
       " '06041 1999': ['CA', 0],\n",
       " '06041 2000': ['CA', 0],\n",
       " '06041 2001': ['CA', 0],\n",
       " '06041 2002': ['CA', 0],\n",
       " '06041 2003': ['CA', 0],\n",
       " '06041 2005': ['CA', 0],\n",
       " '06041 2006': ['CA', 0],\n",
       " '06041 2007': ['CA', 0],\n",
       " '06041 2009': ['CA', 0],\n",
       " '06041 2010': ['CA', 0],\n",
       " '06047 1998': ['CA', 0],\n",
       " '06047 2000': ['CA', 0],\n",
       " '06047 2002': ['CA', 0],\n",
       " '06047 2004': ['CA', 0],\n",
       " '06047 2008': ['CA', 0],\n",
       " '06047 2009': ['CA', 0],\n",
       " '06047 2010': ['CA', 0],\n",
       " '06051 1998': ['CA', 0],\n",
       " '06055 2010': ['CA', 0],\n",
       " '06059 1998': ['CA', 0],\n",
       " '06059 2000': ['CA', 0],\n",
       " '06059 2001': ['CA', 0],\n",
       " '06059 2003': ['CA', 0],\n",
       " '06063 1999': ['CA', 0],\n",
       " '06067 1999': ['CA', 0],\n",
       " '06067 2000': ['CA', 0],\n",
       " '06067 2001': ['CA', 0],\n",
       " '06067 2003': ['CA', 0],\n",
       " '06067 2004': ['CA', 0],\n",
       " '06067 2005': ['CA', 0],\n",
       " '06067 2006': ['CA', 0],\n",
       " '06067 2007': ['CA', 0],\n",
       " '06067 2009': ['CA', 0],\n",
       " '06069 1999': ['CA', 0],\n",
       " '06069 2000': ['CA', 0],\n",
       " '06069 2009': ['CA', 0],\n",
       " '06075 1998': ['CA', 0],\n",
       " '06075 1999': ['CA', 0],\n",
       " '06075 2000': ['CA', 0],\n",
       " '06075 2001': ['CA', 0],\n",
       " '06075 2002': ['CA', 0],\n",
       " '06075 2003': ['CA', 0],\n",
       " '06075 2004': ['CA', 0],\n",
       " '06075 2005': ['CA', 0],\n",
       " '06075 2006': ['CA', 0],\n",
       " '06075 2007': ['CA', 0],\n",
       " '06075 2008': ['CA', 0],\n",
       " '06075 2009': ['CA', 0],\n",
       " '06075 2010': ['CA', 0],\n",
       " '06075 2012': ['CA', 0],\n",
       " '06075 2013': ['CA', 0],\n",
       " '06077 1998': ['CA', 0],\n",
       " '06077 1999': ['CA', 0],\n",
       " '06077 2000': ['CA', 0],\n",
       " '06077 2001': ['CA', 0],\n",
       " '06077 2002': ['CA', 0],\n",
       " '06077 2003': ['CA', 0],\n",
       " '06077 2004': ['CA', 0],\n",
       " '06077 2005': ['CA', 0],\n",
       " '06077 2006': ['CA', 0],\n",
       " '06077 2007': ['CA', 0],\n",
       " '06077 2008': ['CA', 0],\n",
       " '06077 2009': ['CA', 0],\n",
       " '06077 2010': ['CA', 0],\n",
       " '06081 1998': ['CA', 0],\n",
       " '06081 1999': ['CA', 0],\n",
       " '06081 2001': ['CA', 0],\n",
       " '06081 2002': ['CA', 0],\n",
       " '06081 2003': ['CA', 0],\n",
       " '06081 2004': ['CA', 0],\n",
       " '06081 2005': ['CA', 0],\n",
       " '06081 2008': ['CA', 0],\n",
       " '06081 2009': ['CA', 0],\n",
       " '06081 2010': ['CA', 0],\n",
       " '06083 2005': ['CA', 0],\n",
       " '06085 2006': ['CA', 0],\n",
       " '06085 2008': ['CA', 0],\n",
       " '06085 2009': ['CA', 0],\n",
       " '06085 2010': ['CA', 0],\n",
       " '06087 1998': ['CA', 0],\n",
       " '06087 1999': ['CA', 0],\n",
       " '06087 2000': ['CA', 0],\n",
       " '06087 2001': ['CA', 0],\n",
       " '06087 2002': ['CA', 0],\n",
       " '06087 2003': ['CA', 0],\n",
       " '06087 2004': ['CA', 0],\n",
       " '06087 2005': ['CA', 0],\n",
       " '06087 2008': ['CA', 0],\n",
       " '06087 2009': ['CA', 0],\n",
       " '06087 2010': ['CA', 0],\n",
       " '06095 1998': ['CA', 0],\n",
       " '06095 1999': ['CA', 0],\n",
       " '06095 2008': ['CA', 0],\n",
       " '06095 2009': ['CA', 0],\n",
       " '06095 2010': ['CA', 0],\n",
       " '06097 2008': ['CA', 0],\n",
       " '06097 2009': ['CA', 0],\n",
       " '06097 2010': ['CA', 0],\n",
       " '06099 1998': ['CA', 0],\n",
       " '06099 1999': ['CA', 0],\n",
       " '06099 2003': ['CA', 0],\n",
       " '06099 2004': ['CA', 0],\n",
       " '06099 2008': ['CA', 0],\n",
       " '06099 2009': ['CA', 0],\n",
       " '06099 2010': ['CA', 0],\n",
       " '06101 1998': ['CA', 0],\n",
       " '06101 1999': ['CA', 0],\n",
       " '06101 2000': ['CA', 0],\n",
       " '06101 2001': ['CA', 0],\n",
       " '06101 2002': ['CA', 0],\n",
       " '06101 2003': ['CA', 0],\n",
       " '06101 2004': ['CA', 0],\n",
       " '06101 2005': ['CA', 0],\n",
       " '06101 2006': ['CA', 0],\n",
       " '06101 2007': ['CA', 0],\n",
       " '06101 2008': ['CA', 0],\n",
       " '06101 2009': ['CA', 0],\n",
       " '06101 2010': ['CA', 0],\n",
       " '06101 2012': ['CA', 0],\n",
       " '06111 1998': ['CA', 0],\n",
       " '06111 1999': ['CA', 0],\n",
       " '06111 2000': ['CA', 0],\n",
       " '06111 2001': ['CA', 0],\n",
       " '06111 2002': ['CA', 0],\n",
       " '06111 2004': ['CA', 0],\n",
       " '06113 2008': ['CA', 0],\n",
       " '06113 2010': ['CA', 0],\n",
       " '53001 1998': ['WA', 0],\n",
       " '53001 1999': ['WA', 0],\n",
       " '53001 2000': ['WA', 0],\n",
       " '53001 2001': ['WA', 0],\n",
       " '53001 2002': ['WA', 0],\n",
       " '53001 2003': ['WA', 0],\n",
       " '53001 2004': ['WA', 0],\n",
       " '53001 2005': ['WA', 0],\n",
       " '53001 2006': ['WA', 0],\n",
       " '53001 2007': ['WA', 0],\n",
       " '53001 2008': ['WA', 0],\n",
       " '53001 2009': ['WA', 0],\n",
       " '53001 2010': ['WA', 0],\n",
       " '53001 2011': ['WA', 0],\n",
       " '53001 2012': ['WA', 0],\n",
       " '53001 2013': ['WA', 0],\n",
       " '53003 2011': ['WA', 0],\n",
       " '53005 1998': ['WA', 0],\n",
       " '53005 1999': ['WA', 0],\n",
       " '53005 2004': ['WA', 0],\n",
       " '53005 2006': ['WA', 0],\n",
       " '53005 2010': ['WA', 0],\n",
       " '53017 1998': ['WA', 0],\n",
       " '53017 2013': ['WA', 0],\n",
       " '53021 1998': ['WA', 0],\n",
       " '53021 2000': ['WA', 0],\n",
       " '53021 2001': ['WA', 0],\n",
       " '53021 2005': ['WA', 0],\n",
       " '53021 2007': ['WA', 0],\n",
       " '53021 2009': ['WA', 0],\n",
       " '53021 2014': ['WA', 0],\n",
       " '53023 2005': ['WA', 0],\n",
       " '53025 1998': ['WA', 0],\n",
       " '53025 1999': ['WA', 0],\n",
       " '53025 2001': ['WA', 0],\n",
       " '53025 2003': ['WA', 0],\n",
       " '53025 2005': ['WA', 0],\n",
       " '53025 2009': ['WA', 0],\n",
       " '53029 2011': ['WA', 0],\n",
       " '53035 1998': ['WA', 0],\n",
       " '53035 2010': ['WA', 0],\n",
       " '53035 2011': ['WA', 0],\n",
       " '53035 2012': ['WA', 0],\n",
       " '53069 1999': ['WA', 0],\n",
       " '53069 2003': ['WA', 0],\n",
       " '53069 2007': ['WA', 0],\n",
       " '53069 2011': ['WA', 0],\n",
       " '53071 2000': ['WA', 0],\n",
       " '53071 2004': ['WA', 0],\n",
       " '53071 2011': ['WA', 0],\n",
       " '53075 1998': ['WA', 0],\n",
       " '53075 1999': ['WA', 0],\n",
       " '53075 2000': ['WA', 0],\n",
       " '53075 2001': ['WA', 0],\n",
       " '53075 2002': ['WA', 0],\n",
       " '53075 2003': ['WA', 0],\n",
       " '53075 2004': ['WA', 0],\n",
       " '53075 2005': ['WA', 0],\n",
       " '53075 2010': ['WA', 0],\n",
       " '53075 2011': ['WA', 0],\n",
       " '53075 2012': ['WA', 0],\n",
       " '53075 2013': ['WA', 0],\n",
       " '53075 2014': ['WA', 0],\n",
       " '53075 2015': ['WA', 0],\n",
       " '41021 1998': ['OR', 0],\n",
       " '41021 2005': ['OR', 0],\n",
       " '41021 2006': ['OR', 0],\n",
       " '41021 2009': ['OR', 0],\n",
       " '41045 1998': ['OR', 0],\n",
       " '41049 2011': ['OR', 0],\n",
       " '41055 1998': ['OR', 0],\n",
       " '41055 2010': ['OR', 0],\n",
       " '32001 1998': ['NV', 0],\n",
       " '32003 1998': ['NV', 0],\n",
       " '32009 1998': ['NV', 0],\n",
       " '32009 2001': ['NV', 0],\n",
       " '32009 2005': ['NV', 0],\n",
       " '32009 2008': ['NV', 0],\n",
       " '32009 2009': ['NV', 0],\n",
       " '32009 2010': ['NV', 0],\n",
       " '32009 2012': ['NV', 0],\n",
       " '32009 2014': ['NV', 0],\n",
       " '32011 1998': ['NV', 0],\n",
       " '32013 1998': ['NV', 0],\n",
       " '32015 1998': ['NV', 0],\n",
       " '32017 1998': ['NV', 0],\n",
       " '32019 1998': ['NV', 0],\n",
       " '32021 1998': ['NV', 0],\n",
       " '32021 2007': ['NV', 0],\n",
       " '32021 2015': ['NV', 0],\n",
       " '32023 1998': ['NV', 0],\n",
       " '32025 1998': ['NV', 0],\n",
       " '32025 1999': ['NV', 0],\n",
       " '32025 2000': ['NV', 0],\n",
       " '32025 2001': ['NV', 0],\n",
       " '32025 2002': ['NV', 0],\n",
       " '32025 2003': ['NV', 0],\n",
       " '32025 2004': ['NV', 0],\n",
       " '32025 2005': ['NV', 0],\n",
       " '32025 2006': ['NV', 0],\n",
       " '32025 2007': ['NV', 0],\n",
       " '32025 2008': ['NV', 0],\n",
       " '32025 2009': ['NV', 0],\n",
       " '32025 2010': ['NV', 0],\n",
       " '32025 2011': ['NV', 0],\n",
       " '32025 2012': ['NV', 0],\n",
       " '32025 2013': ['NV', 0],\n",
       " '32025 2014': ['NV', 0],\n",
       " '32025 2015': ['NV', 0],\n",
       " '32027 1998': ['NV', 0],\n",
       " '32029 1998': ['NV', 0],\n",
       " '32029 2008': ['NV', 0],\n",
       " '32029 2013': ['NV', 0],\n",
       " '32031 1998': ['NV', 0],\n",
       " '32510 1998': ['NV', 0],\n",
       " '49011 2008': ['UT', 0],\n",
       " '49029 2015': ['UT', 0],\n",
       " '49035 1998': ['UT', 0],\n",
       " '49035 1999': ['UT', 0],\n",
       " '49035 2004': ['UT', 0]}"
      ]
     },
     "execution_count": 771,
     "metadata": {},
     "output_type": "execute_result"
    }
   ],
   "source": [
    "# creating missing fips-year observations\n",
    "from collections import defaultdict\n",
    "\n",
    "missing_obs = dict()\n",
    "\n",
    "for fipyear in fips_years:\n",
    "    # print(fipyear)\n",
    "    if fipyear not in list(fires['FIPS-YEAR']):\n",
    "        print(fipyear, 'not in list')\n",
    "        if fipyear[:2] == '53':\n",
    "            missing_obs[fipyear] = ['WA', 0]\n",
    "        if fipyear[:2] == '06':\n",
    "            missing_obs[fipyear] = ['CA', 0]\n",
    "        if fipyear[:2] == '41':\n",
    "            missing_obs[fipyear] = ['OR', 0]\n",
    "        if fipyear[:2] == '49':\n",
    "            missing_obs[fipyear] = ['UT', 0]\n",
    "        if fipyear[:2] == '32':\n",
    "            missing_obs[fipyear] = ['NV', 0]\n",
    "    \n",
    "missing_obs"
   ]
  },
  {
   "cell_type": "code",
   "execution_count": 772,
   "id": "female-school",
   "metadata": {},
   "outputs": [
    {
     "data": {
      "text/html": [
       "<div>\n",
       "<style scoped>\n",
       "    .dataframe tbody tr th:only-of-type {\n",
       "        vertical-align: middle;\n",
       "    }\n",
       "\n",
       "    .dataframe tbody tr th {\n",
       "        vertical-align: top;\n",
       "    }\n",
       "\n",
       "    .dataframe thead th {\n",
       "        text-align: right;\n",
       "    }\n",
       "</style>\n",
       "<table border=\"1\" class=\"dataframe\">\n",
       "  <thead>\n",
       "    <tr style=\"text-align: right;\">\n",
       "      <th></th>\n",
       "      <th>FIPS-YEAR</th>\n",
       "      <th>STATE</th>\n",
       "      <th>FIRE_SIZE</th>\n",
       "    </tr>\n",
       "  </thead>\n",
       "  <tbody>\n",
       "    <tr>\n",
       "      <th>0</th>\n",
       "      <td>06001 1998</td>\n",
       "      <td>CA</td>\n",
       "      <td>0.1</td>\n",
       "    </tr>\n",
       "    <tr>\n",
       "      <th>1</th>\n",
       "      <td>06001 1999</td>\n",
       "      <td>CA</td>\n",
       "      <td>0.4</td>\n",
       "    </tr>\n",
       "    <tr>\n",
       "      <th>2</th>\n",
       "      <td>06001 2001</td>\n",
       "      <td>CA</td>\n",
       "      <td>0.2</td>\n",
       "    </tr>\n",
       "    <tr>\n",
       "      <th>3</th>\n",
       "      <td>06001 2002</td>\n",
       "      <td>CA</td>\n",
       "      <td>0.3</td>\n",
       "    </tr>\n",
       "    <tr>\n",
       "      <th>4</th>\n",
       "      <td>06001 2003</td>\n",
       "      <td>CA</td>\n",
       "      <td>1.2</td>\n",
       "    </tr>\n",
       "  </tbody>\n",
       "</table>\n",
       "</div>"
      ],
      "text/plain": [
       "    FIPS-YEAR STATE  FIRE_SIZE\n",
       "0  06001 1998    CA        0.1\n",
       "1  06001 1999    CA        0.4\n",
       "2  06001 2001    CA        0.2\n",
       "3  06001 2002    CA        0.3\n",
       "4  06001 2003    CA        1.2"
      ]
     },
     "execution_count": 772,
     "metadata": {},
     "output_type": "execute_result"
    }
   ],
   "source": [
    "fires.head()"
   ]
  },
  {
   "cell_type": "code",
   "execution_count": 773,
   "id": "innovative-taste",
   "metadata": {},
   "outputs": [],
   "source": [
    "# formatting new observations\n",
    "\n",
    "obs_df = pd.DataFrame.from_dict(missing_obs, orient='index')\n",
    "\n",
    "obs_df = obs_df.reset_index()\n",
    "obs_df = obs_df.rename(columns = {'index':'FIPS-YEAR', 0:'STATE', 1: 'FIRE_SIZE'})"
   ]
  },
  {
   "cell_type": "code",
   "execution_count": 774,
   "id": "southern-bracelet",
   "metadata": {
    "scrolled": true
   },
   "outputs": [
    {
     "data": {
      "text/plain": [
       "(277, 3)"
      ]
     },
     "execution_count": 774,
     "metadata": {},
     "output_type": "execute_result"
    }
   ],
   "source": [
    "obs_df.shape"
   ]
  },
  {
   "cell_type": "code",
   "execution_count": 775,
   "id": "spare-confusion",
   "metadata": {},
   "outputs": [],
   "source": [
    "# inserting new observations\n",
    "\n",
    "fires = pd.concat([fires, obs_df])"
   ]
  },
  {
   "cell_type": "code",
   "execution_count": 776,
   "id": "challenging-wellington",
   "metadata": {},
   "outputs": [
    {
     "data": {
      "text/plain": [
       "CA    1044\n",
       "WA     702\n",
       "OR     648\n",
       "UT     522\n",
       "NV     325\n",
       "Name: STATE, dtype: int64"
      ]
     },
     "execution_count": 776,
     "metadata": {},
     "output_type": "execute_result"
    }
   ],
   "source": [
    "fires.STATE.value_counts()"
   ]
  },
  {
   "cell_type": "code",
   "execution_count": 777,
   "id": "exact-softball",
   "metadata": {},
   "outputs": [
    {
     "data": {
      "text/plain": [
       "(3241, 3)"
      ]
     },
     "execution_count": 777,
     "metadata": {},
     "output_type": "execute_result"
    }
   ],
   "source": [
    "fires.shape"
   ]
  },
  {
   "cell_type": "code",
   "execution_count": 778,
   "id": "exposed-verse",
   "metadata": {},
   "outputs": [
    {
     "data": {
      "text/plain": [
       "FIPS-YEAR  STATE  FIRE_SIZE\n",
       "False      False  False        3241\n",
       "dtype: int64"
      ]
     },
     "execution_count": 778,
     "metadata": {},
     "output_type": "execute_result"
    }
   ],
   "source": [
    "fires.isna().value_counts()"
   ]
  },
  {
   "cell_type": "markdown",
   "id": "placed-asian",
   "metadata": {},
   "source": [
    "# Combining Climate Data and Fire Data"
   ]
  },
  {
   "cell_type": "code",
   "execution_count": 779,
   "id": "connected-tower",
   "metadata": {},
   "outputs": [],
   "source": [
    "westcoast = pd.merge(fires, westcoast_climate, on = 'FIPS-YEAR', how = 'left')\n"
   ]
  },
  {
   "cell_type": "markdown",
   "id": "fossil-touch",
   "metadata": {},
   "source": [
    "There seems to be a serious error here. When I combine the climate and fire data, there is a shape imbalance between the two that is causing a lot of nans to appear. There are more fips-years for fire than for climate. What if I just use a duct tape approach and interpolate climate data from surrounding counties? Let's just see what happens. "
   ]
  },
  {
   "cell_type": "code",
   "execution_count": 780,
   "id": "falling-wallet",
   "metadata": {
    "scrolled": true
   },
   "outputs": [
    {
     "data": {
      "text/plain": [
       "CA    1044\n",
       "WA     702\n",
       "OR     648\n",
       "UT     522\n",
       "NV     325\n",
       "Name: STATE, dtype: int64"
      ]
     },
     "execution_count": 780,
     "metadata": {},
     "output_type": "execute_result"
    }
   ],
   "source": [
    "westcoast.STATE.value_counts()"
   ]
  },
  {
   "cell_type": "code",
   "execution_count": 781,
   "id": "optimum-check",
   "metadata": {},
   "outputs": [
    {
     "data": {
      "text/plain": [
       "(3241, 11)"
      ]
     },
     "execution_count": 781,
     "metadata": {},
     "output_type": "execute_result"
    }
   ],
   "source": [
    "westcoast.shape"
   ]
  },
  {
   "cell_type": "code",
   "execution_count": 782,
   "id": "sized-staff",
   "metadata": {
    "scrolled": true
   },
   "outputs": [
    {
     "data": {
      "text/plain": [
       "(3222, 11)"
      ]
     },
     "execution_count": 782,
     "metadata": {},
     "output_type": "execute_result"
    }
   ],
   "source": [
    "#westcoast = westcoast.assign(temp=westcoast.temp.fillna(np.mean(westcoast.temp)),\n",
    "#                             temp_rank=westcoast.temp_rank.fillna(np.mean(westcoast.temp_rank)),\n",
    "#                             temp_anomaly=)\n",
    "westcoast.dropna().shape"
   ]
  },
  {
   "cell_type": "code",
   "execution_count": 783,
   "id": "outstanding-buffer",
   "metadata": {
    "scrolled": true
   },
   "outputs": [
    {
     "data": {
      "text/plain": [
       "CA    1044\n",
       "WA     702\n",
       "OR     648\n",
       "UT     522\n",
       "NV     306\n",
       "Name: STATE, dtype: int64"
      ]
     },
     "execution_count": 783,
     "metadata": {},
     "output_type": "execute_result"
    }
   ],
   "source": [
    "westcoast.dropna().STATE.value_counts()"
   ]
  },
  {
   "cell_type": "code",
   "execution_count": 784,
   "id": "bulgarian-signal",
   "metadata": {},
   "outputs": [],
   "source": [
    "westcoast = westcoast.dropna()"
   ]
  },
  {
   "cell_type": "code",
   "execution_count": 785,
   "id": "rocky-radius",
   "metadata": {},
   "outputs": [
    {
     "data": {
      "text/plain": [
       "CA    1044\n",
       "WA     702\n",
       "OR     648\n",
       "UT     522\n",
       "NV     306\n",
       "Name: STATE, dtype: int64"
      ]
     },
     "execution_count": 785,
     "metadata": {},
     "output_type": "execute_result"
    }
   ],
   "source": [
    "westcoast.STATE.value_counts()"
   ]
  },
  {
   "cell_type": "markdown",
   "id": "shared-passport",
   "metadata": {},
   "source": [
    "# Setting up data for time series"
   ]
  },
  {
   "cell_type": "code",
   "execution_count": 786,
   "id": "bizarre-singer",
   "metadata": {
    "scrolled": false
   },
   "outputs": [],
   "source": [
    "westcoast['YEAR'] = westcoast['FIPS-YEAR'].apply(lambda x: x[-4:])"
   ]
  },
  {
   "cell_type": "markdown",
   "id": "cheap-paintball",
   "metadata": {},
   "source": [
    "# Modeling Fires on Temp and Precip"
   ]
  },
  {
   "cell_type": "code",
   "execution_count": 787,
   "id": "exotic-slope",
   "metadata": {},
   "outputs": [],
   "source": [
    "# using one hot encoder on state column\n",
    "cat_x = westcoast.loc[:, ['STATE']]\n",
    "cat_y = westcoast.loc[:, 'FIRE_SIZE']\n",
    "\n",
    "ohe = OneHotEncoder(drop='first',sparse=False)\n",
    "ohe.fit(cat_x)\n",
    "ohe_x = ohe.transform(cat_x)\n",
    "columns = ohe.get_feature_names(['STATE'])\n",
    "ohe_x_df = pd.DataFrame(ohe_x, columns = columns, index = cat_x.index)\n",
    "\n",
    "\n",
    "\n",
    "# splitting data\n",
    "x = westcoast[['temp', 'temp_rank', 'temp_anomaly', 'temp_mean', 'precip',\n",
    "       'precip_rank', 'precip_anomaly', 'precip_mean']]\n",
    "\n",
    "# inserting ohe data\n",
    "x = pd.concat([x,ohe_x_df], axis=1)\n",
    "\n",
    "y = westcoast['FIRE_SIZE']\n",
    "\n",
    "x_train_val, x_test, y_train_val, y_test = train_test_split(x,y,test_size=0.2)\n",
    "\n",
    "x_train, x_val, y_train, y_val = train_test_split(x_train_val, y_train_val, test_size = 0.2)\n",
    "\n"
   ]
  },
  {
   "cell_type": "markdown",
   "id": "assured-weight",
   "metadata": {},
   "source": [
    "### Ridge-1: RidgeCV (kind of just terrible)"
   ]
  },
  {
   "cell_type": "code",
   "execution_count": 788,
   "id": "facial-salon",
   "metadata": {},
   "outputs": [
    {
     "name": "stdout",
     "output_type": "stream",
     "text": [
      "3.83 % variation explained during training.\n",
      "3.78 % variance explained during validation.\n"
     ]
    }
   ],
   "source": [
    "ridge_1 = RidgeCV()\n",
    "\n",
    "ridge_1.fit(x_train_val, y_train_val)\n",
    "ridge_1_pred = ridge_1.predict(x_train_val)\n",
    "\n",
    "print(round(ridge_1.score(x_train,y_train)*100,2),'% variation explained during training.')\n",
    "print(round(explained_variance_score(y_train_val, ridge_1_pred)*100,2),'% variance explained during validation.')\n"
   ]
  },
  {
   "cell_type": "markdown",
   "id": "curious-ceremony",
   "metadata": {},
   "source": [
    "### RF-1: Random Forest (overfitting a ton)"
   ]
  },
  {
   "cell_type": "code",
   "execution_count": 789,
   "id": "earlier-rehabilitation",
   "metadata": {},
   "outputs": [
    {
     "name": "stdout",
     "output_type": "stream",
     "text": [
      "86.2 % variation explained during training.\n",
      "8.15 % variation explained during validation.\n"
     ]
    }
   ],
   "source": [
    "# lets run a few RF models and take the average validation explanatory power\n",
    "\n",
    "train_scores = []\n",
    "val_scores = []\n",
    "for i in range(10):\n",
    "    \n",
    "\n",
    "    rf_one = RandomForestRegressor(n_estimators = 100, max_depth = 20)\n",
    "\n",
    "    rf_one.fit(x_train, y_train)\n",
    "\n",
    "    rf_one_predictions = rf_one.predict(x_val)\n",
    "\n",
    "    # print(round(rf_one.score(x_train, y_train)*100,2),'% variation explained during training.')\n",
    "    # print(round(explained_variance_score(y_val, rf_one_predictions)*100,2),'% variation explained during validation.')\n",
    "\n",
    "    train_scores.append(rf_one.score(x_train, y_train))\n",
    "    val_scores.append(explained_variance_score(y_val, rf_one_predictions))\n",
    "    \n",
    "print(round(np.mean(train_scores)*100,2),'% variation explained during training.')\n",
    "print(round(np.mean(val_scores)*100,2),'% variation explained during validation.')\n"
   ]
  },
  {
   "cell_type": "code",
   "execution_count": 790,
   "id": "cognitive-content",
   "metadata": {},
   "outputs": [
    {
     "data": {
      "image/png": "[encoded data removed]",
      "text/plain": [
       "<Figure size 432x288 with 1 Axes>"
      ]
     },
     "metadata": {
      "needs_background": "light"
     },
     "output_type": "display_data"
    }
   ],
   "source": [
    "randomforest_tweak('n_estimators', 50, 150)"
   ]
  },
  {
   "cell_type": "markdown",
   "id": "utility-listing",
   "metadata": {},
   "source": [
    "There's just a ton of variance in the explanatory power of the Random Forest model. No matter how I tune the hyperparameters, I think the dataset is just too small. "
   ]
  },
  {
   "cell_type": "markdown",
   "id": "portuguese-mineral",
   "metadata": {},
   "source": [
    "# Examining the Data Again\n",
    "Now that I've tamed the data so far, time to introduce more messy data! What fun! \n",
    "\n",
    "Based on the three factors in wildfire patterns, I want to introduce...\n",
    "1. A measure of climate \n",
    "2. A measure of terrain\n",
    "3. A measure of fuel\n",
    "\n",
    "Other factors that would be interesting include\n",
    "4. Population density\n",
    "\n",
    "For (1), I already have temperature and precipitation. I have *very* simple measures of these, but let's move on for now. \n",
    "\n",
    "For (2), I can use my terrain data from my natural amenities project!\n",
    "\n",
    "For (3), I need to find some land cover metric for each county.\n",
    "\n",
    "For (4), I can also use natural amenity data"
   ]
  },
  {
   "cell_type": "markdown",
   "id": "figured-lawrence",
   "metadata": {},
   "source": [
    "# Introducing Terrain Data"
   ]
  },
  {
   "cell_type": "code",
   "execution_count": 791,
   "id": "induced-antarctica",
   "metadata": {},
   "outputs": [],
   "source": [
    "nat = pd.read_csv('/Users/patricknorman/Documents/GitHub/metis-project-2/data/nat_amen_clean.csv')"
   ]
  },
  {
   "cell_type": "code",
   "execution_count": 792,
   "id": "innovative-springer",
   "metadata": {},
   "outputs": [
    {
     "name": "stderr",
     "output_type": "stream",
     "text": [
      "<ipython-input-792-9334269caf11>:2: SettingWithCopyWarning: \n",
      "A value is trying to be set on a copy of a slice from a DataFrame.\n",
      "Try using .loc[row_indexer,col_indexer] = value instead\n",
      "\n",
      "See the caveats in the documentation: https://pandas.pydata.org/pandas-docs/stable/user_guide/indexing.html#returning-a-view-versus-a-copy\n",
      "  topo['FIPS'] = topo['FIPS'].iloc[:].apply(lambda x: str(x))\n"
     ]
    },
    {
     "data": {
      "text/plain": [
       "(3111, 2)"
      ]
     },
     "execution_count": 792,
     "metadata": {},
     "output_type": "execute_result"
    }
   ],
   "source": [
    "topo = nat[['FIPS','TOPO']]\n",
    "topo['FIPS'] = topo['FIPS'].iloc[:].apply(lambda x: str(x))\n",
    "topo.shape"
   ]
  },
  {
   "cell_type": "code",
   "execution_count": 793,
   "id": "novel-directory",
   "metadata": {},
   "outputs": [],
   "source": [
    "westcoast['FIPS'] = westcoast['FIPS-YEAR'].apply(lambda x: x[:5])\n",
    "#westcoast.head()"
   ]
  },
  {
   "cell_type": "code",
   "execution_count": 794,
   "id": "sized-dating",
   "metadata": {},
   "outputs": [],
   "source": [
    "westcoast = pd.merge(westcoast, topo, on = 'FIPS')"
   ]
  },
  {
   "cell_type": "markdown",
   "id": "retained-london",
   "metadata": {},
   "source": [
    "# Round 2: Using Topography, Temp, and Precip"
   ]
  },
  {
   "cell_type": "code",
   "execution_count": 795,
   "id": "casual-color",
   "metadata": {},
   "outputs": [],
   "source": [
    "# using one hot encoder on state column\n",
    "cat_x = westcoast.loc[:, ['STATE']]\n",
    "cat_y = westcoast.loc[:, 'FIRE_SIZE']\n",
    "\n",
    "ohe = OneHotEncoder(drop='first',sparse=False)\n",
    "ohe.fit(cat_x)\n",
    "ohe_x = ohe.transform(cat_x)\n",
    "columns = ohe.get_feature_names(['STATE'])\n",
    "ohe_x_df = pd.DataFrame(ohe_x, columns = columns, index = cat_x.index)\n",
    "\n",
    "\n",
    "\n",
    "# splitting data\n",
    "x = westcoast[['temp', 'temp_rank', 'temp_anomaly', 'temp_mean', 'precip',\n",
    "       'precip_rank', 'precip_anomaly', 'precip_mean']]\n",
    "\n",
    "# inserting ohe data\n",
    "x = pd.concat([x,ohe_x_df], axis=1)\n",
    "\n",
    "y = westcoast['FIRE_SIZE']\n",
    "\n",
    "x_train_val, x_test, y_train_val, y_test = train_test_split(x,y,test_size=0.2)\n",
    "\n",
    "x_train, x_val, y_train, y_val = train_test_split(x_train_val, y_train_val, test_size = 0.2)\n",
    "\n"
   ]
  },
  {
   "cell_type": "code",
   "execution_count": 796,
   "id": "neither-respect",
   "metadata": {
    "scrolled": true
   },
   "outputs": [
    {
     "name": "stdout",
     "output_type": "stream",
     "text": [
      "85.64 % variation explained during training.\n",
      "17.77 % variation explained during validation.\n"
     ]
    }
   ],
   "source": [
    "# lets run a few RF models and take the average validation explanatory power\n",
    "\n",
    "train_scores = []\n",
    "val_scores = []\n",
    "for i in range(10):\n",
    "    \n",
    "\n",
    "    rf_one = RandomForestRegressor(n_estimators = 100, max_depth = 20)\n",
    "\n",
    "    rf_one.fit(x_train, y_train)\n",
    "\n",
    "    rf_one_predictions = rf_one.predict(x_val)\n",
    "\n",
    "    # print(round(rf_one.score(x_train, y_train)*100,2),'% variation explained during training.')\n",
    "    # print(round(explained_variance_score(y_val, rf_one_predictions)*100,2),'% variation explained during validation.')\n",
    "\n",
    "    train_scores.append(rf_one.score(x_train, y_train))\n",
    "    val_scores.append(explained_variance_score(y_val, rf_one_predictions))\n",
    "    \n",
    "print(round(np.mean(train_scores)*100,2),'% variation explained during training.')\n",
    "print(round(np.mean(val_scores)*100,2),'% variation explained during validation.')\n"
   ]
  },
  {
   "cell_type": "markdown",
   "id": "dramatic-gentleman",
   "metadata": {},
   "source": [
    "Nice! Including terrain improved my explanatory power by around 10%. "
   ]
  },
  {
   "cell_type": "markdown",
   "id": "fitted-invitation",
   "metadata": {},
   "source": [
    "# Introducing Population Density Data"
   ]
  },
  {
   "cell_type": "code",
   "execution_count": 797,
   "id": "significant-table",
   "metadata": {},
   "outputs": [
    {
     "data": {
      "text/plain": [
       "Index(['FIPS', 'COMBINED_COUNTY_INDEX', 'STATE', 'COUNTY', 'CENSUS_DIV', 'RUC',\n",
       "       'UIC', 'JAN_TEMP', 'JAN_SUN', 'JULY_TEMP', 'HUMIDITY', 'TOPO', 'WATER',\n",
       "       'LN_WATER', 'JAN TEMP - Z', 'JAN SUN - Z', 'JUL TEMP - Z',\n",
       "       'JUL HUM - Z', 'TOPOG - Z', 'LN WATER  AREA - Z', 'NAT_AMENITY',\n",
       "       'RANK'],\n",
       "      dtype='object')"
      ]
     },
     "execution_count": 797,
     "metadata": {},
     "output_type": "execute_result"
    }
   ],
   "source": [
    "nat.columns"
   ]
  },
  {
   "cell_type": "code",
   "execution_count": 798,
   "id": "dutch-connection",
   "metadata": {},
   "outputs": [],
   "source": [
    "pop_density = pd.read_pickle('/Users/patricknorman/Documents/python/nat.pkl')\n",
    "pop_density = pop_density[['FIPS','DENSITY']]\n",
    "pop_density['FIPS'] = pop_density['FIPS'].apply(lambda x: str(x))"
   ]
  },
  {
   "cell_type": "code",
   "execution_count": 799,
   "id": "gorgeous-battery",
   "metadata": {
    "scrolled": true
   },
   "outputs": [
    {
     "data": {
      "text/html": [
       "<div>\n",
       "<style scoped>\n",
       "    .dataframe tbody tr th:only-of-type {\n",
       "        vertical-align: middle;\n",
       "    }\n",
       "\n",
       "    .dataframe tbody tr th {\n",
       "        vertical-align: top;\n",
       "    }\n",
       "\n",
       "    .dataframe thead th {\n",
       "        text-align: right;\n",
       "    }\n",
       "</style>\n",
       "<table border=\"1\" class=\"dataframe\">\n",
       "  <thead>\n",
       "    <tr style=\"text-align: right;\">\n",
       "      <th></th>\n",
       "      <th>FIPS</th>\n",
       "      <th>DENSITY</th>\n",
       "    </tr>\n",
       "  </thead>\n",
       "  <tbody>\n",
       "    <tr>\n",
       "      <th>0</th>\n",
       "      <td>1003</td>\n",
       "      <td>137.0</td>\n",
       "    </tr>\n",
       "    <tr>\n",
       "      <th>1</th>\n",
       "      <td>1055</td>\n",
       "      <td>190.0</td>\n",
       "    </tr>\n",
       "    <tr>\n",
       "      <th>2</th>\n",
       "      <td>1069</td>\n",
       "      <td>170.0</td>\n",
       "    </tr>\n",
       "    <tr>\n",
       "      <th>3</th>\n",
       "      <td>1073</td>\n",
       "      <td>590.0</td>\n",
       "    </tr>\n",
       "    <tr>\n",
       "      <th>4</th>\n",
       "      <td>1077</td>\n",
       "      <td>130.0</td>\n",
       "    </tr>\n",
       "    <tr>\n",
       "      <th>...</th>\n",
       "      <td>...</td>\n",
       "      <td>...</td>\n",
       "    </tr>\n",
       "    <tr>\n",
       "      <th>439</th>\n",
       "      <td>55135</td>\n",
       "      <td>69.0</td>\n",
       "    </tr>\n",
       "    <tr>\n",
       "      <th>440</th>\n",
       "      <td>55141</td>\n",
       "      <td>92.0</td>\n",
       "    </tr>\n",
       "    <tr>\n",
       "      <th>441</th>\n",
       "      <td>56005</td>\n",
       "      <td>9.6</td>\n",
       "    </tr>\n",
       "    <tr>\n",
       "      <th>442</th>\n",
       "      <td>56007</td>\n",
       "      <td>2.0</td>\n",
       "    </tr>\n",
       "    <tr>\n",
       "      <th>443</th>\n",
       "      <td>56029</td>\n",
       "      <td>4.0</td>\n",
       "    </tr>\n",
       "  </tbody>\n",
       "</table>\n",
       "<p>444 rows × 2 columns</p>\n",
       "</div>"
      ],
      "text/plain": [
       "      FIPS  DENSITY\n",
       "0     1003    137.0\n",
       "1     1055    190.0\n",
       "2     1069    170.0\n",
       "3     1073    590.0\n",
       "4     1077    130.0\n",
       "..     ...      ...\n",
       "439  55135     69.0\n",
       "440  55141     92.0\n",
       "441  56005      9.6\n",
       "442  56007      2.0\n",
       "443  56029      4.0\n",
       "\n",
       "[444 rows x 2 columns]"
      ]
     },
     "execution_count": 799,
     "metadata": {},
     "output_type": "execute_result"
    }
   ],
   "source": [
    "pop_density"
   ]
  },
  {
   "cell_type": "code",
   "execution_count": 800,
   "id": "continent-coast",
   "metadata": {},
   "outputs": [
    {
     "data": {
      "text/plain": [
       "WA    702\n",
       "OR    648\n",
       "UT    522\n",
       "NV    306\n",
       "Name: STATE, dtype: int64"
      ]
     },
     "execution_count": 800,
     "metadata": {},
     "output_type": "execute_result"
    }
   ],
   "source": [
    "westcoast.STATE.value_counts()"
   ]
  },
  {
   "cell_type": "code",
   "execution_count": 801,
   "id": "printable-crisis",
   "metadata": {},
   "outputs": [],
   "source": [
    "westcoast = pd.merge(westcoast, pop_density, on = 'FIPS')"
   ]
  },
  {
   "cell_type": "code",
   "execution_count": 802,
   "id": "rolled-georgia",
   "metadata": {},
   "outputs": [
    {
     "data": {
      "text/plain": [
       "WA    216\n",
       "OR    126\n",
       "NV     18\n",
       "UT     18\n",
       "Name: STATE, dtype: int64"
      ]
     },
     "execution_count": 802,
     "metadata": {},
     "output_type": "execute_result"
    }
   ],
   "source": [
    "westcoast.STATE.value_counts()"
   ]
  },
  {
   "cell_type": "markdown",
   "id": "ruled-twins",
   "metadata": {},
   "source": [
    "# Remember to apply standardscaler! The features are all scaled differently..."
   ]
  },
  {
   "cell_type": "code",
   "execution_count": 803,
   "id": "figured-target",
   "metadata": {},
   "outputs": [],
   "source": [
    "ss = StandardScaler()\n",
    "\n",
    "x_scaled = ss.fit_transform(x)\n",
    "x_train_val_scaled = ss.transform(x_train_val)\n",
    "x_train_scaled = ss.transform(x_train)\n",
    "x_val_scaled = ss.transform(x_val)\n",
    "x_test_scaled = ss.transform(x_test)"
   ]
  },
  {
   "cell_type": "code",
   "execution_count": 804,
   "id": "interested-birthday",
   "metadata": {},
   "outputs": [
    {
     "name": "stdout",
     "output_type": "stream",
     "text": [
      "86.05 % variation explained during training.\n",
      "16.22 % variation explained during validation.\n"
     ]
    }
   ],
   "source": [
    "train_scores = []\n",
    "val_scores = []\n",
    "for i in range(10):\n",
    "    \n",
    "\n",
    "    rf_one = RandomForestRegressor(n_estimators = 100, max_depth = 20)\n",
    "\n",
    "    rf_one.fit(x_train, y_train)\n",
    "\n",
    "    rf_one_predictions = rf_one.predict(x_val)\n",
    "\n",
    "    # print(round(rf_one.score(x_train, y_train)*100,2),'% variation explained during training.')\n",
    "    # print(round(explained_variance_score(y_val, rf_one_predictions)*100,2),'% variation explained during validation.')\n",
    "\n",
    "    train_scores.append(rf_one.score(x_train, y_train))\n",
    "    val_scores.append(explained_variance_score(y_val, rf_one_predictions))\n",
    "    \n",
    "print(round(np.mean(train_scores)*100,2),'% variation explained during training.')\n",
    "print(round(np.mean(val_scores)*100,2),'% variation explained during validation.')\n"
   ]
  },
  {
   "cell_type": "markdown",
   "id": "determined-sailing",
   "metadata": {},
   "source": [
    "A little better. Now let's try and introduce a measure of fuel abundance per county. I was able to find some sort of coarse woody debris (CWD) data per county. It's just from one year, but let's see if it adds some understanding. "
   ]
  },
  {
   "cell_type": "markdown",
   "id": "intellectual-thing",
   "metadata": {},
   "source": [
    "# Adding CWD Data"
   ]
  },
  {
   "cell_type": "code",
   "execution_count": 805,
   "id": "governing-cleaner",
   "metadata": {},
   "outputs": [
    {
     "name": "stderr",
     "output_type": "stream",
     "text": [
      "/Users/patricknorman/anaconda3/envs/metis/lib/python3.8/site-packages/IPython/core/interactiveshell.py:3145: DtypeWarning: Columns (19,33) have mixed types.Specify dtype option on import or set low_memory=False.\n",
      "  has_raised = await self.run_ast_nodes(code_ast.body, cell_name,\n"
     ]
    }
   ],
   "source": [
    "ca_cwd = pd.read_csv('/Users/patricknorman/Downloads/CA_DWM_COARSE_WOODY_DEBRIS.csv')"
   ]
  },
  {
   "cell_type": "code",
   "execution_count": 806,
   "id": "sudden-database",
   "metadata": {},
   "outputs": [
    {
     "data": {
      "text/html": [
       "<div>\n",
       "<style scoped>\n",
       "    .dataframe tbody tr th:only-of-type {\n",
       "        vertical-align: middle;\n",
       "    }\n",
       "\n",
       "    .dataframe tbody tr th {\n",
       "        vertical-align: top;\n",
       "    }\n",
       "\n",
       "    .dataframe thead th {\n",
       "        text-align: right;\n",
       "    }\n",
       "</style>\n",
       "<table border=\"1\" class=\"dataframe\">\n",
       "  <thead>\n",
       "    <tr style=\"text-align: right;\">\n",
       "      <th></th>\n",
       "      <th>CN</th>\n",
       "      <th>PLT_CN</th>\n",
       "      <th>INVYR</th>\n",
       "      <th>STATECD</th>\n",
       "      <th>COUNTYCD</th>\n",
       "      <th>PLOT</th>\n",
       "      <th>SUBP</th>\n",
       "      <th>TRANSECT</th>\n",
       "      <th>CWDID</th>\n",
       "      <th>MEASYEAR</th>\n",
       "      <th>...</th>\n",
       "      <th>LENGTH_CD</th>\n",
       "      <th>VOLCF_AC_UNADJ</th>\n",
       "      <th>VOLCF_AC_PLOT</th>\n",
       "      <th>VOLCF_AC_COND</th>\n",
       "      <th>DRYBIO_AC_UNADJ</th>\n",
       "      <th>DRYBIO_AC_PLOT</th>\n",
       "      <th>DRYBIO_AC_COND</th>\n",
       "      <th>CARBON_AC_UNADJ</th>\n",
       "      <th>CARBON_AC_PLOT</th>\n",
       "      <th>CARBON_AC_COND</th>\n",
       "    </tr>\n",
       "  </thead>\n",
       "  <tbody>\n",
       "    <tr>\n",
       "      <th>0</th>\n",
       "      <td>722998001290487</td>\n",
       "      <td>558626849126144</td>\n",
       "      <td>2019</td>\n",
       "      <td>6</td>\n",
       "      <td>63</td>\n",
       "      <td>94358</td>\n",
       "      <td>2</td>\n",
       "      <td>180</td>\n",
       "      <td>2</td>\n",
       "      <td>2019</td>\n",
       "      <td>...</td>\n",
       "      <td>1.0</td>\n",
       "      <td>332.583509</td>\n",
       "      <td>332.583509</td>\n",
       "      <td>332.583509</td>\n",
       "      <td>5828.124239</td>\n",
       "      <td>5828.124239</td>\n",
       "      <td>5828.124239</td>\n",
       "      <td>3036.452729</td>\n",
       "      <td>3036.452729</td>\n",
       "      <td>3036.452729</td>\n",
       "    </tr>\n",
       "    <tr>\n",
       "      <th>1</th>\n",
       "      <td>722998002290487</td>\n",
       "      <td>558626849126144</td>\n",
       "      <td>2019</td>\n",
       "      <td>6</td>\n",
       "      <td>63</td>\n",
       "      <td>94358</td>\n",
       "      <td>2</td>\n",
       "      <td>180</td>\n",
       "      <td>3</td>\n",
       "      <td>2019</td>\n",
       "      <td>...</td>\n",
       "      <td>1.0</td>\n",
       "      <td>49.070577</td>\n",
       "      <td>49.070577</td>\n",
       "      <td>49.070577</td>\n",
       "      <td>532.482493</td>\n",
       "      <td>532.482493</td>\n",
       "      <td>532.482493</td>\n",
       "      <td>277.423379</td>\n",
       "      <td>277.423379</td>\n",
       "      <td>277.423379</td>\n",
       "    </tr>\n",
       "    <tr>\n",
       "      <th>2</th>\n",
       "      <td>722998003290487</td>\n",
       "      <td>558626849126144</td>\n",
       "      <td>2019</td>\n",
       "      <td>6</td>\n",
       "      <td>63</td>\n",
       "      <td>94358</td>\n",
       "      <td>2</td>\n",
       "      <td>180</td>\n",
       "      <td>4</td>\n",
       "      <td>2019</td>\n",
       "      <td>...</td>\n",
       "      <td>1.0</td>\n",
       "      <td>195.114565</td>\n",
       "      <td>195.114565</td>\n",
       "      <td>195.114565</td>\n",
       "      <td>2117.258388</td>\n",
       "      <td>2117.258388</td>\n",
       "      <td>2117.258388</td>\n",
       "      <td>1103.091620</td>\n",
       "      <td>1103.091620</td>\n",
       "      <td>1103.091620</td>\n",
       "    </tr>\n",
       "    <tr>\n",
       "      <th>3</th>\n",
       "      <td>722998004290487</td>\n",
       "      <td>558626849126144</td>\n",
       "      <td>2019</td>\n",
       "      <td>6</td>\n",
       "      <td>63</td>\n",
       "      <td>94358</td>\n",
       "      <td>2</td>\n",
       "      <td>180</td>\n",
       "      <td>5</td>\n",
       "      <td>2019</td>\n",
       "      <td>...</td>\n",
       "      <td>1.0</td>\n",
       "      <td>195.831799</td>\n",
       "      <td>195.831799</td>\n",
       "      <td>195.831799</td>\n",
       "      <td>2125.041353</td>\n",
       "      <td>2125.041353</td>\n",
       "      <td>2125.041353</td>\n",
       "      <td>1107.146545</td>\n",
       "      <td>1107.146545</td>\n",
       "      <td>1107.146545</td>\n",
       "    </tr>\n",
       "    <tr>\n",
       "      <th>4</th>\n",
       "      <td>722998005290487</td>\n",
       "      <td>558626849126144</td>\n",
       "      <td>2019</td>\n",
       "      <td>6</td>\n",
       "      <td>63</td>\n",
       "      <td>94358</td>\n",
       "      <td>2</td>\n",
       "      <td>360</td>\n",
       "      <td>1</td>\n",
       "      <td>2019</td>\n",
       "      <td>...</td>\n",
       "      <td>1.0</td>\n",
       "      <td>49.070577</td>\n",
       "      <td>49.070577</td>\n",
       "      <td>49.070577</td>\n",
       "      <td>532.482493</td>\n",
       "      <td>532.482493</td>\n",
       "      <td>532.482493</td>\n",
       "      <td>277.423379</td>\n",
       "      <td>277.423379</td>\n",
       "      <td>277.423379</td>\n",
       "    </tr>\n",
       "  </tbody>\n",
       "</table>\n",
       "<p>5 rows × 55 columns</p>\n",
       "</div>"
      ],
      "text/plain": [
       "                CN           PLT_CN  INVYR  STATECD  COUNTYCD   PLOT  SUBP  \\\n",
       "0  722998001290487  558626849126144   2019        6        63  94358     2   \n",
       "1  722998002290487  558626849126144   2019        6        63  94358     2   \n",
       "2  722998003290487  558626849126144   2019        6        63  94358     2   \n",
       "3  722998004290487  558626849126144   2019        6        63  94358     2   \n",
       "4  722998005290487  558626849126144   2019        6        63  94358     2   \n",
       "\n",
       "   TRANSECT  CWDID  MEASYEAR  ...  LENGTH_CD  VOLCF_AC_UNADJ  VOLCF_AC_PLOT  \\\n",
       "0       180      2      2019  ...        1.0      332.583509     332.583509   \n",
       "1       180      3      2019  ...        1.0       49.070577      49.070577   \n",
       "2       180      4      2019  ...        1.0      195.114565     195.114565   \n",
       "3       180      5      2019  ...        1.0      195.831799     195.831799   \n",
       "4       360      1      2019  ...        1.0       49.070577      49.070577   \n",
       "\n",
       "   VOLCF_AC_COND  DRYBIO_AC_UNADJ  DRYBIO_AC_PLOT  DRYBIO_AC_COND  \\\n",
       "0     332.583509      5828.124239     5828.124239     5828.124239   \n",
       "1      49.070577       532.482493      532.482493      532.482493   \n",
       "2     195.114565      2117.258388     2117.258388     2117.258388   \n",
       "3     195.831799      2125.041353     2125.041353     2125.041353   \n",
       "4      49.070577       532.482493      532.482493      532.482493   \n",
       "\n",
       "   CARBON_AC_UNADJ  CARBON_AC_PLOT CARBON_AC_COND  \n",
       "0      3036.452729     3036.452729    3036.452729  \n",
       "1       277.423379      277.423379     277.423379  \n",
       "2      1103.091620     1103.091620    1103.091620  \n",
       "3      1107.146545     1107.146545    1107.146545  \n",
       "4       277.423379      277.423379     277.423379  \n",
       "\n",
       "[5 rows x 55 columns]"
      ]
     },
     "execution_count": 806,
     "metadata": {},
     "output_type": "execute_result"
    }
   ],
   "source": [
    "ca_cwd.head()"
   ]
  },
  {
   "cell_type": "code",
   "execution_count": 807,
   "id": "ordinary-groove",
   "metadata": {},
   "outputs": [
    {
     "data": {
      "text/plain": [
       "(68817, 55)"
      ]
     },
     "execution_count": 807,
     "metadata": {},
     "output_type": "execute_result"
    }
   ],
   "source": [
    "ca_cwd.shape"
   ]
  },
  {
   "cell_type": "code",
   "execution_count": 808,
   "id": "expected-premium",
   "metadata": {},
   "outputs": [
    {
     "data": {
      "text/plain": [
       "Index(['CN', 'PLT_CN', 'INVYR', 'STATECD', 'COUNTYCD', 'PLOT', 'SUBP',\n",
       "       'TRANSECT', 'CWDID', 'MEASYEAR', 'CONDID', 'SLOPDIST', 'HORIZ_DIST',\n",
       "       'SPCD', 'DECAYCD', 'TRANSDIA', 'SMALLDIA', 'LARGEDIA', 'LENGTH',\n",
       "       'HOLLOWCD', 'CWDHSTCD', 'VOLCF', 'DRYBIO', 'CARBON', 'COVER_PCT',\n",
       "       'LPA_UNADJ', 'LPA_PLOT', 'LPA_COND', 'LPA_UNADJ_RGN', 'LPA_PLOT_RGN',\n",
       "       'LPA_COND_RGN', 'COVER_PCT_RGN', 'CHARRED_CD', 'ORNTCD_PNWRS',\n",
       "       'CREATED_BY', 'CREATED_DATE', 'CREATED_IN_INSTANCE', 'MODIFIED_BY',\n",
       "       'MODIFIED_DATE', 'MODIFIED_IN_INSTANCE', 'CWD_SAMPLE_METHOD',\n",
       "       'HOLLOW_DIA', 'HORIZ_DIST_CD', 'INCLINATION', 'LARGE_END_DIA_CLASS',\n",
       "       'LENGTH_CD', 'VOLCF_AC_UNADJ', 'VOLCF_AC_PLOT', 'VOLCF_AC_COND',\n",
       "       'DRYBIO_AC_UNADJ', 'DRYBIO_AC_PLOT', 'DRYBIO_AC_COND',\n",
       "       'CARBON_AC_UNADJ', 'CARBON_AC_PLOT', 'CARBON_AC_COND'],\n",
       "      dtype='object')"
      ]
     },
     "execution_count": 808,
     "metadata": {},
     "output_type": "execute_result"
    }
   ],
   "source": [
    "ca_cwd.columns"
   ]
  },
  {
   "cell_type": "code",
   "execution_count": 809,
   "id": "modified-relationship",
   "metadata": {},
   "outputs": [],
   "source": [
    "ca_cwd = ca_cwd[['INVYR','STATECD','COUNTYCD','COVER_PCT']]"
   ]
  },
  {
   "cell_type": "code",
   "execution_count": 810,
   "id": "latest-spread",
   "metadata": {},
   "outputs": [
    {
     "data": {
      "text/html": [
       "<div>\n",
       "<style scoped>\n",
       "    .dataframe tbody tr th:only-of-type {\n",
       "        vertical-align: middle;\n",
       "    }\n",
       "\n",
       "    .dataframe tbody tr th {\n",
       "        vertical-align: top;\n",
       "    }\n",
       "\n",
       "    .dataframe thead th {\n",
       "        text-align: right;\n",
       "    }\n",
       "</style>\n",
       "<table border=\"1\" class=\"dataframe\">\n",
       "  <thead>\n",
       "    <tr style=\"text-align: right;\">\n",
       "      <th></th>\n",
       "      <th>INVYR</th>\n",
       "      <th>STATECD</th>\n",
       "      <th>COUNTYCD</th>\n",
       "      <th>COVER_PCT</th>\n",
       "    </tr>\n",
       "  </thead>\n",
       "  <tbody>\n",
       "    <tr>\n",
       "      <th>0</th>\n",
       "      <td>2019</td>\n",
       "      <td>6</td>\n",
       "      <td>63</td>\n",
       "      <td>0.886302</td>\n",
       "    </tr>\n",
       "    <tr>\n",
       "      <th>1</th>\n",
       "      <td>2019</td>\n",
       "      <td>6</td>\n",
       "      <td>63</td>\n",
       "      <td>0.340885</td>\n",
       "    </tr>\n",
       "    <tr>\n",
       "      <th>2</th>\n",
       "      <td>2019</td>\n",
       "      <td>6</td>\n",
       "      <td>63</td>\n",
       "      <td>0.681771</td>\n",
       "    </tr>\n",
       "    <tr>\n",
       "      <th>3</th>\n",
       "      <td>2019</td>\n",
       "      <td>6</td>\n",
       "      <td>63</td>\n",
       "      <td>0.681771</td>\n",
       "    </tr>\n",
       "    <tr>\n",
       "      <th>4</th>\n",
       "      <td>2019</td>\n",
       "      <td>6</td>\n",
       "      <td>63</td>\n",
       "      <td>0.340885</td>\n",
       "    </tr>\n",
       "  </tbody>\n",
       "</table>\n",
       "</div>"
      ],
      "text/plain": [
       "   INVYR  STATECD  COUNTYCD  COVER_PCT\n",
       "0   2019        6        63   0.886302\n",
       "1   2019        6        63   0.340885\n",
       "2   2019        6        63   0.681771\n",
       "3   2019        6        63   0.681771\n",
       "4   2019        6        63   0.340885"
      ]
     },
     "execution_count": 810,
     "metadata": {},
     "output_type": "execute_result"
    }
   ],
   "source": [
    "ca_cwd.head()"
   ]
  },
  {
   "cell_type": "code",
   "execution_count": 811,
   "id": "freelance-praise",
   "metadata": {},
   "outputs": [],
   "source": [
    "ca_cwd = ca_cwd.groupby(['COUNTYCD','INVYR']).mean()\n",
    "ca_cwd = ca_cwd.reset_index()"
   ]
  },
  {
   "cell_type": "code",
   "execution_count": 812,
   "id": "extreme-sleeve",
   "metadata": {},
   "outputs": [
    {
     "data": {
      "text/plain": [
       "numpy.int64"
      ]
     },
     "execution_count": 812,
     "metadata": {},
     "output_type": "execute_result"
    }
   ],
   "source": [
    "type(ca_cwd.COUNTYCD.iloc[0])"
   ]
  },
  {
   "cell_type": "code",
   "execution_count": 813,
   "id": "minimal-deposit",
   "metadata": {},
   "outputs": [
    {
     "data": {
      "text/plain": [
       "0      001\n",
       "1      001\n",
       "2      001\n",
       "3      001\n",
       "4      001\n",
       "      ... \n",
       "878    115\n",
       "879    115\n",
       "880    115\n",
       "881    115\n",
       "882    115\n",
       "Name: COUNTYCD, Length: 883, dtype: object"
      ]
     },
     "execution_count": 813,
     "metadata": {},
     "output_type": "execute_result"
    }
   ],
   "source": [
    "def county_processor(code):\n",
    "    while len(code) < 3:\n",
    "        code = '0'+ code\n",
    "        \n",
    "    return code\n",
    "\n",
    "ca_cwd['COUNTYCD'] = ca_cwd['COUNTYCD'].apply(lambda x: county_processor(str(x)))\n",
    "\n",
    "ca_cwd['COUNTYCD']"
   ]
  },
  {
   "cell_type": "code",
   "execution_count": 814,
   "id": "standard-metro",
   "metadata": {},
   "outputs": [],
   "source": [
    "def cwd_preprocessor(path):\n",
    "    '''\n",
    "    This function takes in a file path to a CSV of coarse woody \n",
    "    debris for a state, and does all the necessary cleaning and \n",
    "    preprocessing for insertion into my other dataframe.\n",
    "    \n",
    "    NOTE: this is a very simple application of cwd. I am collapsing\n",
    "    the variation between years. Depending on if this improves my \n",
    "    model, I may go back and change this.\n",
    "    \n",
    "    path (str): file path. \n",
    "    '''\n",
    "    df = pd.read_csv(path)\n",
    "    \n",
    "    df = df[['STATECD','COUNTYCD','COVER_PCT']]\n",
    "    \n",
    "    df = df.groupby('COUNTYCD').mean()\n",
    "    df = df.reset_index()\n",
    "    \n",
    "    df['STATECD'] = df['STATECD'].apply(lambda x: '0'+str(x))\n",
    "    \n",
    "    # quick function to add zeros to county codes\n",
    "    def county_processor(code):\n",
    "        while len(code) < 3:\n",
    "            code = '0'+ code\n",
    "        \n",
    "        return code\n",
    "    \n",
    "    df['COUNTYCD'] = df['COUNTYCD'].apply(lambda x: county_processor(str(x)))\n",
    "    \n",
    "    df['FIPS'] = df['STATECD'] + df['COUNTYCD']\n",
    "    \n",
    "    df = df.drop(columns=['COUNTYCD','STATECD'])\n",
    "    \n",
    "    return df"
   ]
  },
  {
   "cell_type": "code",
   "execution_count": 815,
   "id": "earlier-conservative",
   "metadata": {},
   "outputs": [
    {
     "name": "stderr",
     "output_type": "stream",
     "text": [
      "/Users/patricknorman/anaconda3/envs/metis/lib/python3.8/site-packages/IPython/core/interactiveshell.py:3337: DtypeWarning: Columns (19,33) have mixed types.Specify dtype option on import or set low_memory=False.\n",
      "  if (await self.run_code(code, result,  async_=asy)):\n"
     ]
    }
   ],
   "source": [
    "ca_cwd = cwd_preprocessor('/Users/patricknorman/Downloads/CA_DWM_COARSE_WOODY_DEBRIS.csv')"
   ]
  },
  {
   "cell_type": "code",
   "execution_count": 816,
   "id": "french-surfing",
   "metadata": {},
   "outputs": [
    {
     "data": {
      "text/html": [
       "<div>\n",
       "<style scoped>\n",
       "    .dataframe tbody tr th:only-of-type {\n",
       "        vertical-align: middle;\n",
       "    }\n",
       "\n",
       "    .dataframe tbody tr th {\n",
       "        vertical-align: top;\n",
       "    }\n",
       "\n",
       "    .dataframe thead th {\n",
       "        text-align: right;\n",
       "    }\n",
       "</style>\n",
       "<table border=\"1\" class=\"dataframe\">\n",
       "  <thead>\n",
       "    <tr style=\"text-align: right;\">\n",
       "      <th></th>\n",
       "      <th>COVER_PCT</th>\n",
       "      <th>FIPS</th>\n",
       "    </tr>\n",
       "  </thead>\n",
       "  <tbody>\n",
       "    <tr>\n",
       "      <th>0</th>\n",
       "      <td>0.286365</td>\n",
       "      <td>06001</td>\n",
       "    </tr>\n",
       "    <tr>\n",
       "      <th>1</th>\n",
       "      <td>0.441486</td>\n",
       "      <td>06003</td>\n",
       "    </tr>\n",
       "    <tr>\n",
       "      <th>2</th>\n",
       "      <td>0.477815</td>\n",
       "      <td>06005</td>\n",
       "    </tr>\n",
       "    <tr>\n",
       "      <th>3</th>\n",
       "      <td>0.324860</td>\n",
       "      <td>06007</td>\n",
       "    </tr>\n",
       "    <tr>\n",
       "      <th>4</th>\n",
       "      <td>0.375551</td>\n",
       "      <td>06009</td>\n",
       "    </tr>\n",
       "  </tbody>\n",
       "</table>\n",
       "</div>"
      ],
      "text/plain": [
       "   COVER_PCT   FIPS\n",
       "0   0.286365  06001\n",
       "1   0.441486  06003\n",
       "2   0.477815  06005\n",
       "3   0.324860  06007\n",
       "4   0.375551  06009"
      ]
     },
     "execution_count": 816,
     "metadata": {},
     "output_type": "execute_result"
    }
   ],
   "source": [
    "ca_cwd.head()"
   ]
  },
  {
   "cell_type": "code",
   "execution_count": 817,
   "id": "mighty-console",
   "metadata": {},
   "outputs": [
    {
     "data": {
      "text/plain": [
       "(56, 2)"
      ]
     },
     "execution_count": 817,
     "metadata": {},
     "output_type": "execute_result"
    }
   ],
   "source": [
    "ca_cwd.shape"
   ]
  },
  {
   "cell_type": "code",
   "execution_count": 818,
   "id": "oriental-indicator",
   "metadata": {},
   "outputs": [
    {
     "name": "stderr",
     "output_type": "stream",
     "text": [
      "/Users/patricknorman/anaconda3/envs/metis/lib/python3.8/site-packages/IPython/core/interactiveshell.py:3337: DtypeWarning: Columns (19,33) have mixed types.Specify dtype option on import or set low_memory=False.\n",
      "  if (await self.run_code(code, result,  async_=asy)):\n"
     ]
    }
   ],
   "source": [
    "# california cwd\n",
    "ca_cwd = cwd_preprocessor('/Users/patricknorman/Downloads/CA_DWM_COARSE_WOODY_DEBRIS.csv')\n",
    "\n"
   ]
  },
  {
   "cell_type": "code",
   "execution_count": 819,
   "id": "breeding-sacramento",
   "metadata": {},
   "outputs": [],
   "source": [
    "# oregon cwd"
   ]
  },
  {
   "cell_type": "code",
   "execution_count": 820,
   "id": "impressed-checklist",
   "metadata": {},
   "outputs": [],
   "source": [
    "# washington cwd"
   ]
  },
  {
   "cell_type": "code",
   "execution_count": 821,
   "id": "preceding-combining",
   "metadata": {},
   "outputs": [],
   "source": [
    "# utah cwd"
   ]
  },
  {
   "cell_type": "code",
   "execution_count": 822,
   "id": "thrown-repository",
   "metadata": {},
   "outputs": [
    {
     "data": {
      "text/plain": [
       "WA    216\n",
       "OR    126\n",
       "NV     18\n",
       "UT     18\n",
       "Name: STATE, dtype: int64"
      ]
     },
     "execution_count": 822,
     "metadata": {},
     "output_type": "execute_result"
    }
   ],
   "source": [
    "westcoast.STATE.value_counts()"
   ]
  },
  {
   "cell_type": "code",
   "execution_count": null,
   "id": "coated-coach",
   "metadata": {},
   "outputs": [],
   "source": []
  }
 ],
 "metadata": {
  "kernelspec": {
   "display_name": "Python 3",
   "language": "python",
   "name": "python3"
  },
  "language_info": {
   "codemirror_mode": {
    "name": "ipython",
    "version": 3
   },
   "file_extension": ".py",
   "mimetype": "text/x-python",
   "name": "python",
   "nbconvert_exporter": "python",
   "pygments_lexer": "ipython3",
   "version": "3.8.6"
  }
 },
 "nbformat": 4,
 "nbformat_minor": 5
}
