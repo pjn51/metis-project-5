{
 "cells": [
  {
   "cell_type": "markdown",
   "id": "vanilla-pharmaceutical",
   "metadata": {},
   "source": [
    "# Objective\n",
    "I want to create a tool that could be used to determine the risk of a forest fire happening, using as small of a geographic and temporal unit as possible. "
   ]
  },
  {
   "cell_type": "markdown",
   "id": "square-listening",
   "metadata": {},
   "source": [
    "# Packages "
   ]
  },
  {
   "cell_type": "code",
   "execution_count": 4,
   "id": "saved-maple",
   "metadata": {},
   "outputs": [],
   "source": [
    "import pandas as pd\n",
    "import numpy as np\n",
    "import sqlite3\n",
    "import plotly.express as px"
   ]
  },
  {
   "cell_type": "markdown",
   "id": "plain-implementation",
   "metadata": {},
   "source": [
    "# Data Sources\n",
    "I'm going to need data that describes...\n",
    "- Where forest fires have happened in the past\n",
    "- Information per geo unit\n",
    "    - Elevation\n",
    "    - June mean temp\n",
    "    - Annual rainfall\n",
    "    - Rural-ness\n",
    "    - Vegetation density"
   ]
  },
  {
   "cell_type": "markdown",
   "id": "historical-invite",
   "metadata": {},
   "source": [
    "I can get my historical forest fire data from this [Kaggle dataset](https://www.kaggle.com/rtatman/188-million-us-wildfires). It has 1.88 million wildfires with geographic information, between 1992 and 2015. \n",
    "\n",
    "Here's a dataset of 1,800 fires in California that I might want to add later. [Link](https://www.kaggle.com/ananthu017/california-wildfire-incidents-20132020)\n",
    "\n",
    "Here's temperature and precipitation data for all US counties. [Link](https://www.ncdc.noaa.gov/cag/county/mapping/110/tavg/202101/1/anomaly)"
   ]
  },
  {
   "cell_type": "markdown",
   "id": "compatible-broadway",
   "metadata": {},
   "source": [
    "# Cleaning Forest Fire Dataset"
   ]
  },
  {
   "cell_type": "code",
   "execution_count": 5,
   "id": "greenhouse-monster",
   "metadata": {
    "scrolled": true
   },
   "outputs": [],
   "source": [
    "con = sqlite3.connect(\"/Users/patricknorman/Downloads/FPA_FOD_20170508.sqlite\")\n",
    "\n",
    "cur = con.cursor()\n",
    "\n",
    "# The result of a \"cursor.execute\" can be iterated over by row\n",
    "first_fire = []\n",
    "\n",
    "for row in cur.execute('SELECT * FROM Fires LIMIT 1;'):\n",
    "    for x in row:\n",
    "        first_fire.append(x)\n",
    "        \n",
    "df = pd.read_sql_query('SELECT * FROM Fires', con)\n",
    "\n",
    "# Be sure to close the connection\n",
    "con.close()"
   ]
  },
  {
   "cell_type": "code",
   "execution_count": 6,
   "id": "understood-sampling",
   "metadata": {},
   "outputs": [],
   "source": [
    "df = df.rename(columns={'FIPS_CODE':'COUNTY_CODE'})"
   ]
  },
  {
   "cell_type": "code",
   "execution_count": 7,
   "id": "laughing-charles",
   "metadata": {},
   "outputs": [],
   "source": [
    "state_codes = {\n",
    "    'WA': '53', 'DE': '10', 'DC': '11', 'WI': '55', 'WV': '54', 'HI': '15',\n",
    "    'FL': '12', 'WY': '56', 'PR': '72', 'NJ': '34', 'NM': '35', 'TX': '48',\n",
    "    'LA': '22', 'NC': '37', 'ND': '38', 'NE': '31', 'TN': '47', 'NY': '36',\n",
    "    'PA': '42', 'AK': '02', 'NV': '32', 'NH': '33', 'VA': '51', 'CO': '08',\n",
    "    'CA': '06', 'AL': '01', 'AR': '05', 'VT': '50', 'IL': '17', 'GA': '13',\n",
    "    'IN': '18', 'IA': '19', 'MA': '25', 'AZ': '04', 'ID': '16', 'CT': '09',\n",
    "    'ME': '23', 'MD': '24', 'OK': '40', 'OH': '39', 'UT': '49', 'MO': '29',\n",
    "    'MN': '27', 'MI': '26', 'RI': '44', 'KS': '20', 'MT': '30', 'MS': '28',\n",
    "    'SC': '45', 'KY': '21', 'OR': '41', 'SD': '46'\n",
    "}\n",
    "\n",
    "# converting values: str to int\n",
    "# for key in state_codes.keys():\n",
    "    # state_codes[key] = int(state_codes[key])"
   ]
  },
  {
   "cell_type": "code",
   "execution_count": 8,
   "id": "growing-space",
   "metadata": {
    "scrolled": true
   },
   "outputs": [],
   "source": [
    "df2 = df\n",
    "df2['STATE_CODE'] = df2.STATE.apply(lambda x: state_codes[x])"
   ]
  },
  {
   "cell_type": "code",
   "execution_count": 9,
   "id": "wrong-rental",
   "metadata": {},
   "outputs": [],
   "source": [
    "df2 = df2.astype({'COUNTY_CODE':'str'})"
   ]
  },
  {
   "cell_type": "code",
   "execution_count": 10,
   "id": "loose-insulation",
   "metadata": {},
   "outputs": [
    {
     "name": "stderr",
     "output_type": "stream",
     "text": [
      "<ipython-input-10-a7bee9f14f6f>:1: UserWarning: Pandas doesn't allow columns to be created via a new attribute name - see https://pandas.pydata.org/pandas-docs/stable/indexing.html#attribute-access\n",
      "  df2.FIPS = df2.STATE_CODE + df2.COUNTY_CODE\n"
     ]
    }
   ],
   "source": [
    "df2.FIPS = df2.STATE_CODE + df2.COUNTY_CODE\n"
   ]
  },
  {
   "cell_type": "code",
   "execution_count": 13,
   "id": "french-sunset",
   "metadata": {},
   "outputs": [
    {
     "data": {
      "text/plain": [
       "'06063'"
      ]
     },
     "execution_count": 13,
     "metadata": {},
     "output_type": "execute_result"
    }
   ],
   "source": [
    "df2.FIPS[0]"
   ]
  },
  {
   "cell_type": "code",
   "execution_count": 26,
   "id": "hollywood-parade",
   "metadata": {},
   "outputs": [],
   "source": [
    "df2.drop('Shape', axis=1, inplace=True)"
   ]
  },
  {
   "cell_type": "markdown",
   "id": "geographic-mobility",
   "metadata": {},
   "source": [
    "# Importing and Cleaning June Temps"
   ]
  },
  {
   "cell_type": "code",
   "execution_count": 59,
   "id": "acknowledged-wiring",
   "metadata": {},
   "outputs": [],
   "source": [
    "june_temps = pd.read_csv('/Users/patricknorman/Downloads/june_temps.csv')\n",
    "\n",
    "june_temps['FIPS'] = june_temps['Location ID'].apply(lambda x: str(x[3:]))\n",
    "june_temps['state'] = june_temps['Location ID'].apply(lambda x: x[:2])\n",
    "\n",
    "june_temps['state_code'] = june_temps['state'].apply(lambda x: str(state_codes[x]))\n",
    "june_temps['FIPS'] = june_temps['state_code'] + june_temps['FIPS']\n",
    "\n",
    "june_temps.drop(['Location ID', 'state', 'state_code','Location'], axis=1, inplace=True)\n",
    "\n",
    "june_temps.rename(columns={'Value':'june_temp',\n",
    "                           'Rank':'june_temp_rank',\n",
    "                           'Anomaly (1901-2000 base period)':'june_temp_anomaly',\n",
    "                           '1901-2000 Mean':'june_temp_historical_mean'}, inplace=True)"
   ]
  },
  {
   "cell_type": "code",
   "execution_count": 60,
   "id": "reverse-pottery",
   "metadata": {},
   "outputs": [
    {
     "data": {
      "text/html": [
       "<div>\n",
       "<style scoped>\n",
       "    .dataframe tbody tr th:only-of-type {\n",
       "        vertical-align: middle;\n",
       "    }\n",
       "\n",
       "    .dataframe tbody tr th {\n",
       "        vertical-align: top;\n",
       "    }\n",
       "\n",
       "    .dataframe thead th {\n",
       "        text-align: right;\n",
       "    }\n",
       "</style>\n",
       "<table border=\"1\" class=\"dataframe\">\n",
       "  <thead>\n",
       "    <tr style=\"text-align: right;\">\n",
       "      <th></th>\n",
       "      <th>june_temp</th>\n",
       "      <th>june_temp_rank</th>\n",
       "      <th>june_temp_anomaly</th>\n",
       "      <th>june_temp_historical_mean</th>\n",
       "      <th>FIPS</th>\n",
       "    </tr>\n",
       "  </thead>\n",
       "  <tbody>\n",
       "    <tr>\n",
       "      <th>0</th>\n",
       "      <td>77.9</td>\n",
       "      <td>49</td>\n",
       "      <td>-0.4</td>\n",
       "      <td>78.3</td>\n",
       "      <td>01001</td>\n",
       "    </tr>\n",
       "    <tr>\n",
       "      <th>1</th>\n",
       "      <td>79.7</td>\n",
       "      <td>73</td>\n",
       "      <td>0.3</td>\n",
       "      <td>79.4</td>\n",
       "      <td>01003</td>\n",
       "    </tr>\n",
       "    <tr>\n",
       "      <th>2</th>\n",
       "      <td>77.5</td>\n",
       "      <td>31</td>\n",
       "      <td>-1.1</td>\n",
       "      <td>78.6</td>\n",
       "      <td>01005</td>\n",
       "    </tr>\n",
       "    <tr>\n",
       "      <th>3</th>\n",
       "      <td>76.3</td>\n",
       "      <td>30</td>\n",
       "      <td>-1.3</td>\n",
       "      <td>77.6</td>\n",
       "      <td>01007</td>\n",
       "    </tr>\n",
       "    <tr>\n",
       "      <th>4</th>\n",
       "      <td>75.9</td>\n",
       "      <td>59</td>\n",
       "      <td>0.1</td>\n",
       "      <td>75.8</td>\n",
       "      <td>01009</td>\n",
       "    </tr>\n",
       "  </tbody>\n",
       "</table>\n",
       "</div>"
      ],
      "text/plain": [
       "   june_temp  june_temp_rank  june_temp_anomaly  june_temp_historical_mean  \\\n",
       "0       77.9              49               -0.4                       78.3   \n",
       "1       79.7              73                0.3                       79.4   \n",
       "2       77.5              31               -1.1                       78.6   \n",
       "3       76.3              30               -1.3                       77.6   \n",
       "4       75.9              59                0.1                       75.8   \n",
       "\n",
       "    FIPS  \n",
       "0  01001  \n",
       "1  01003  \n",
       "2  01005  \n",
       "3  01007  \n",
       "4  01009  "
      ]
     },
     "execution_count": 60,
     "metadata": {},
     "output_type": "execute_result"
    }
   ],
   "source": [
    "june_temps.head()"
   ]
  },
  {
   "cell_type": "markdown",
   "id": "vietnamese-handling",
   "metadata": {},
   "source": [
    "# Importing and Cleaning Annual Precipitation"
   ]
  },
  {
   "cell_type": "code",
   "execution_count": null,
   "id": "completed-appendix",
   "metadata": {},
   "outputs": [],
   "source": [
    "precip = pd.read_csv('')"
   ]
  }
 ],
 "metadata": {
  "kernelspec": {
   "display_name": "Python 3",
   "language": "python",
   "name": "python3"
  },
  "language_info": {
   "codemirror_mode": {
    "name": "ipython",
    "version": 3
   },
   "file_extension": ".py",
   "mimetype": "text/x-python",
   "name": "python",
   "nbconvert_exporter": "python",
   "pygments_lexer": "ipython3",
   "version": "3.8.6"
  }
 },
 "nbformat": 4,
 "nbformat_minor": 5
}
